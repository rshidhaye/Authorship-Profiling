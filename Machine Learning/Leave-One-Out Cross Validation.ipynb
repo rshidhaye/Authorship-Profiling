{
 "cells": [
  {
   "cell_type": "markdown",
   "metadata": {},
   "source": [
    "# I: Leave-One-Out Cross Validation:\n",
    "\n",
    "Implement a **Leave-One-Out cross-validation (CV)** function for your **KNN regressor**:\n",
    "\n",
    "cv(train.data, train.label, K, numFold=?) \n",
    "\n",
    "which takes the training data and their labels (continuous values), K value, the number of folds, and returns errors for different folds of the training data."
   ]
  },
  {
   "cell_type": "code",
   "execution_count": 1,
   "metadata": {},
   "outputs": [
    {
     "name": "stderr",
     "output_type": "stream",
     "text": [
      "corrplot 0.84 loaded\n",
      "\n"
     ]
    }
   ],
   "source": [
    "## Loading the necessary libraries:\n",
    "\n",
    "library(reshape2)\n",
    "library(ggplot2)\n",
    "library(corrplot)\n",
    "library(\"Cairo\")"
   ]
  },
  {
   "cell_type": "code",
   "execution_count": 2,
   "metadata": {},
   "outputs": [],
   "source": [
    "## Reading the training and testing files in R:\n",
    "\n",
    "train_data <- read.csv(\"Task1A_train.csv\")\n",
    "test_data <- read.csv(\"Task1A_test.csv\")"
   ]
  },
  {
   "cell_type": "code",
   "execution_count": 3,
   "metadata": {
    "scrolled": true
   },
   "outputs": [
    {
     "data": {
      "text/html": [
       "<style>\n",
       ".list-inline {list-style: none; margin:0; padding: 0}\n",
       ".list-inline>li {display: inline-block}\n",
       ".list-inline>li:not(:last-child)::after {content: \"\\00b7\"; padding: 0 .5ex}\n",
       "</style>\n",
       "<ol class=list-inline><li>42</li><li>2</li></ol>\n"
      ],
      "text/latex": [
       "\\begin{enumerate*}\n",
       "\\item 42\n",
       "\\item 2\n",
       "\\end{enumerate*}\n"
      ],
      "text/markdown": [
       "1. 42\n",
       "2. 2\n",
       "\n",
       "\n"
      ],
      "text/plain": [
       "[1] 42  2"
      ]
     },
     "metadata": {},
     "output_type": "display_data"
    },
    {
     "data": {
      "text/html": [
       "<style>\n",
       ".list-inline {list-style: none; margin:0; padding: 0}\n",
       ".list-inline>li {display: inline-block}\n",
       ".list-inline>li:not(:last-child)::after {content: \"\\00b7\"; padding: 0 .5ex}\n",
       "</style>\n",
       "<ol class=list-inline><li>42</li><li>2</li></ol>\n"
      ],
      "text/latex": [
       "\\begin{enumerate*}\n",
       "\\item 42\n",
       "\\item 2\n",
       "\\end{enumerate*}\n"
      ],
      "text/markdown": [
       "1. 42\n",
       "2. 2\n",
       "\n",
       "\n"
      ],
      "text/plain": [
       "[1] 42  2"
      ]
     },
     "metadata": {},
     "output_type": "display_data"
    }
   ],
   "source": [
    "dim(train_data)\n",
    "dim(test_data)"
   ]
  },
  {
   "cell_type": "markdown",
   "metadata": {},
   "source": [
    "## Training and Testing sets:"
   ]
  },
  {
   "cell_type": "code",
   "execution_count": 4,
   "metadata": {},
   "outputs": [],
   "source": [
    "# create  training and testing subsets:\n",
    "\n",
    "train.data <- train_data[ 1] \n",
    "train.label <- train_data[-1]\n",
    "test.data <- test_data[1] \n",
    "test.label <- test_data[-1]"
   ]
  },
  {
   "cell_type": "code",
   "execution_count": 5,
   "metadata": {},
   "outputs": [
    {
     "data": {
      "text/html": [
       "42"
      ],
      "text/latex": [
       "42"
      ],
      "text/markdown": [
       "42"
      ],
      "text/plain": [
       "[1] 42"
      ]
     },
     "metadata": {},
     "output_type": "display_data"
    }
   ],
   "source": [
    "nrow(test.data)"
   ]
  },
  {
   "cell_type": "code",
   "execution_count": 6,
   "metadata": {
    "scrolled": true
   },
   "outputs": [
    {
     "data": {
      "text/html": [
       "42"
      ],
      "text/latex": [
       "42"
      ],
      "text/markdown": [
       "42"
      ],
      "text/plain": [
       "[1] 42"
      ]
     },
     "metadata": {},
     "output_type": "display_data"
    }
   ],
   "source": [
    "test1.len <- nrow(test.data)\n",
    "test1.len"
   ]
  },
  {
   "cell_type": "code",
   "execution_count": 7,
   "metadata": {},
   "outputs": [],
   "source": [
    "## KNN Regressor:\n",
    "\n",
    "knn <- function(train.data, train.label, test.data, K=3, distance = 'manhattan'){\n",
    "    \n",
    "    ## Count number of train samples:\n",
    "    train.len <- NROW(train.data)                               ## R considers dataframe as a list\n",
    "    \n",
    "    ## Count number of test samples:\n",
    "    \n",
    "    test.len <- NROW(test.data)\n",
    "    #print(test.len)\n",
    "    \n",
    "    train.data <- data.frame(train.data)\n",
    "    test.data <- data.frame(test.data)\n",
    "    train.label <- data.frame(train.label)\n",
    "    test.label <- data.frame(test.label)\n",
    "    names(train.data) <- names(test.data)\n",
    "    \n",
    "    ## Calculate distances between samples:\n",
    "    \n",
    "    dist <- as.matrix(dist(rbind(test.data, train.data), method= distance))[1:test.len, (test.len+1):(test.len+train.len),drop=FALSE]\n",
    "    #print(dist)\n",
    "\n",
    "    \n",
    "    ## For each test sample:\n",
    "    \n",
    "    for (i in 1:test.len){\n",
    "        \n",
    "        ## Find its K nearest neighbours from training samples:\n",
    "        \n",
    "        nn <- as.data.frame(sort(dist[i,], index.return = TRUE))[1:K,2]\n",
    "        #print(nn)\n",
    "\n",
    "        #print(train.label)\n",
    "        \n",
    "        ## Calculate the predicted labels according to the mean of the nearest neighbours:\n",
    "        regr<- mean(train.label[nn,])\n",
    "    }\n",
    "    \n",
    "    ## Return the predictions as output:\n",
    "    \n",
    "    return (regr)\n",
    "}"
   ]
  },
  {
   "cell_type": "markdown",
   "metadata": {},
   "source": [
    "## Implementing LOOCV:"
   ]
  },
  {
   "cell_type": "markdown",
   "metadata": {
    "scrolled": true
   },
   "source": [
    "Leave-one-out cross-validation (LOOCV) is a particular case of leave-p-out cross-validation with p = 1.The process looks similar to jackknife; however, with cross-validation one computes a statistic on the left-out sample, while with jackknifing one computes a statistic from the kept samples only."
   ]
  },
  {
   "cell_type": "code",
   "execution_count": 8,
   "metadata": {},
   "outputs": [],
   "source": [
    "## Defining a function to carry out LOOCV:\n",
    "\n",
    "cv <- function(train.data, train.label, K, numFold=4){\n",
    "    residuals <- as.data.frame(train.label)\n",
    "    \n",
    "    for (i in 1:numFold){\n",
    "        \n",
    "        \n",
    "        test_row <- train.data[i,]                                    ## Selecting the testing row from the training data\n",
    "        test_label <- train.label[i,]                                 ## Selecting the same testing label\n",
    "        \n",
    "        \n",
    "        train_rows <- train.data[-i,]                                 ## Selecting all rows except the testing row\n",
    "        train_labels <- train.label[-i,]                              ## Selecting all labels except the testing label\n",
    "        \n",
    "\n",
    "        predictions <- knn(train_rows, train_labels, test_row,K)      ## Applying KNN to get prediction for the testing row\n",
    "        residuals[i,] <- abs(test_label - predictions)                ## Calculating errors or residuals between actual and predicted values\n",
    "        \n",
    "    }\n",
    "    \n",
    "    ## Return the predictions:\n",
    "    \n",
    "    return(residuals)\n",
    "}"
   ]
  },
  {
   "cell_type": "code",
   "execution_count": 9,
   "metadata": {
    "scrolled": true
   },
   "outputs": [
    {
     "name": "stdout",
     "output_type": "stream",
     "text": [
      "[1] 1\n",
      " [1]  0.85  0.61  0.92  0.72  0.92  0.83  1.00  0.92  1.24  1.16  1.45  1.26\n",
      "[13]  1.86  1.53  1.83  1.53  2.34  2.16  2.70  2.79  3.69  3.60  4.32  4.86\n",
      "[25]  5.04  5.58  6.57  6.03  6.93  6.93  7.83  7.74  8.28  9.54  9.54 11.88\n",
      "[37] 12.15 14.04 14.85 16.20 16.02\n",
      "[1] 0.7933333\n",
      "[1] 2\n",
      " [1]  0.71  0.61  0.92  0.72  0.92  0.83  1.00  0.92  1.24  1.16  1.45  1.26\n",
      "[13]  1.86  1.53  1.83  1.53  2.34  2.16  2.70  2.79  3.69  3.60  4.32  4.86\n",
      "[25]  5.04  5.58  6.57  6.03  6.93  6.93  7.83  7.74  8.28  9.54  9.54 11.88\n",
      "[37] 12.15 14.04 14.85 16.20 16.02\n",
      "[1] 0.7466667\n",
      "[1] 3\n",
      " [1]  0.71  0.85  0.92  0.72  0.92  0.83  1.00  0.92  1.24  1.16  1.45  1.26\n",
      "[13]  1.86  1.53  1.83  1.53  2.34  2.16  2.70  2.79  3.69  3.60  4.32  4.86\n",
      "[25]  5.04  5.58  6.57  6.03  6.93  6.93  7.83  7.74  8.28  9.54  9.54 11.88\n",
      "[37] 12.15 14.04 14.85 16.20 16.02\n",
      "[1] 0.8266667\n",
      "[1] 4\n",
      " [1]  0.71  0.85  0.61  0.72  0.92  0.83  1.00  0.92  1.24  1.16  1.45  1.26\n",
      "[13]  1.86  1.53  1.83  1.53  2.34  2.16  2.70  2.79  3.69  3.60  4.32  4.86\n",
      "[25]  5.04  5.58  6.57  6.03  6.93  6.93  7.83  7.74  8.28  9.54  9.54 11.88\n",
      "[37] 12.15 14.04 14.85 16.20 16.02\n",
      "[1] 0.7266667\n"
     ]
    }
   ],
   "source": [
    "errors <- as.data.frame(train.data)\n",
    "for (i in 1:4){\n",
    "    print(i)\n",
    "    test_row <- train.data[i,]\n",
    "    test_label <- train.label[i,]\n",
    "    #print(test_row)\n",
    "    #print(test_label)\n",
    "    train_rows <- train.data[-i,]\n",
    "    train_labels <- train.label[-i,]\n",
    "    #print(train_rows)\n",
    "    print(train_labels)\n",
    "    pred_row <- knn(train_rows, train_labels, test_row,3)\n",
    "    print(pred_row)\n",
    "    #break\n",
    "}  "
   ]
  },
  {
   "cell_type": "code",
   "execution_count": 10,
   "metadata": {
    "scrolled": true
   },
   "outputs": [
    {
     "data": {
      "text/html": [
       "<table>\n",
       "<caption>A data.frame: 42 × 1</caption>\n",
       "<thead>\n",
       "\t<tr><th scope=col>y</th></tr>\n",
       "\t<tr><th scope=col>&lt;dbl&gt;</th></tr>\n",
       "</thead>\n",
       "<tbody>\n",
       "\t<tr><td>0.0650</td></tr>\n",
       "\t<tr><td>0.1100</td></tr>\n",
       "\t<tr><td>0.1900</td></tr>\n",
       "\t<tr><td>0.1450</td></tr>\n",
       "\t<tr><td>0.1000</td></tr>\n",
       "\t<tr><td>0.0525</td></tr>\n",
       "\t<tr><td>0.0600</td></tr>\n",
       "\t<tr><td>0.0225</td></tr>\n",
       "\t<tr><td>0.1375</td></tr>\n",
       "\t<tr><td>0.1075</td></tr>\n",
       "\t<tr><td>0.0575</td></tr>\n",
       "\t<tr><td>0.0700</td></tr>\n",
       "\t<tr><td>0.2400</td></tr>\n",
       "\t<tr><td>0.3425</td></tr>\n",
       "\t<tr><td>0.0900</td></tr>\n",
       "\t<tr><td>0.0150</td></tr>\n",
       "\t<tr><td>0.4350</td></tr>\n",
       "\t<tr><td>0.2850</td></tr>\n",
       "\t<tr><td>0.1800</td></tr>\n",
       "\t<tr><td>0.0450</td></tr>\n",
       "\t<tr><td>0.2475</td></tr>\n",
       "\t<tr><td>0.3375</td></tr>\n",
       "\t<tr><td>0.3150</td></tr>\n",
       "\t<tr><td>0.0225</td></tr>\n",
       "\t<tr><td>0.2250</td></tr>\n",
       "\t<tr><td>0.2925</td></tr>\n",
       "\t<tr><td>0.0450</td></tr>\n",
       "\t<tr><td>0.6750</td></tr>\n",
       "\t<tr><td>0.4725</td></tr>\n",
       "\t<tr><td>0.0900</td></tr>\n",
       "\t<tr><td>0.2025</td></tr>\n",
       "\t<tr><td>0.3600</td></tr>\n",
       "\t<tr><td>0.4050</td></tr>\n",
       "\t<tr><td>0.3825</td></tr>\n",
       "\t<tr><td>0.1800</td></tr>\n",
       "\t<tr><td>0.9225</td></tr>\n",
       "\t<tr><td>0.5625</td></tr>\n",
       "\t<tr><td>0.4275</td></tr>\n",
       "\t<tr><td>0.2700</td></tr>\n",
       "\t<tr><td>0.2475</td></tr>\n",
       "\t<tr><td>1.9350</td></tr>\n",
       "\t<tr><td>1.7100</td></tr>\n",
       "</tbody>\n",
       "</table>\n"
      ],
      "text/latex": [
       "A data.frame: 42 × 1\n",
       "\\begin{tabular}{l}\n",
       " y\\\\\n",
       " <dbl>\\\\\n",
       "\\hline\n",
       "\t 0.0650\\\\\n",
       "\t 0.1100\\\\\n",
       "\t 0.1900\\\\\n",
       "\t 0.1450\\\\\n",
       "\t 0.1000\\\\\n",
       "\t 0.0525\\\\\n",
       "\t 0.0600\\\\\n",
       "\t 0.0225\\\\\n",
       "\t 0.1375\\\\\n",
       "\t 0.1075\\\\\n",
       "\t 0.0575\\\\\n",
       "\t 0.0700\\\\\n",
       "\t 0.2400\\\\\n",
       "\t 0.3425\\\\\n",
       "\t 0.0900\\\\\n",
       "\t 0.0150\\\\\n",
       "\t 0.4350\\\\\n",
       "\t 0.2850\\\\\n",
       "\t 0.1800\\\\\n",
       "\t 0.0450\\\\\n",
       "\t 0.2475\\\\\n",
       "\t 0.3375\\\\\n",
       "\t 0.3150\\\\\n",
       "\t 0.0225\\\\\n",
       "\t 0.2250\\\\\n",
       "\t 0.2925\\\\\n",
       "\t 0.0450\\\\\n",
       "\t 0.6750\\\\\n",
       "\t 0.4725\\\\\n",
       "\t 0.0900\\\\\n",
       "\t 0.2025\\\\\n",
       "\t 0.3600\\\\\n",
       "\t 0.4050\\\\\n",
       "\t 0.3825\\\\\n",
       "\t 0.1800\\\\\n",
       "\t 0.9225\\\\\n",
       "\t 0.5625\\\\\n",
       "\t 0.4275\\\\\n",
       "\t 0.2700\\\\\n",
       "\t 0.2475\\\\\n",
       "\t 1.9350\\\\\n",
       "\t 1.7100\\\\\n",
       "\\end{tabular}\n"
      ],
      "text/markdown": [
       "\n",
       "A data.frame: 42 × 1\n",
       "\n",
       "| y &lt;dbl&gt; |\n",
       "|---|\n",
       "| 0.0650 |\n",
       "| 0.1100 |\n",
       "| 0.1900 |\n",
       "| 0.1450 |\n",
       "| 0.1000 |\n",
       "| 0.0525 |\n",
       "| 0.0600 |\n",
       "| 0.0225 |\n",
       "| 0.1375 |\n",
       "| 0.1075 |\n",
       "| 0.0575 |\n",
       "| 0.0700 |\n",
       "| 0.2400 |\n",
       "| 0.3425 |\n",
       "| 0.0900 |\n",
       "| 0.0150 |\n",
       "| 0.4350 |\n",
       "| 0.2850 |\n",
       "| 0.1800 |\n",
       "| 0.0450 |\n",
       "| 0.2475 |\n",
       "| 0.3375 |\n",
       "| 0.3150 |\n",
       "| 0.0225 |\n",
       "| 0.2250 |\n",
       "| 0.2925 |\n",
       "| 0.0450 |\n",
       "| 0.6750 |\n",
       "| 0.4725 |\n",
       "| 0.0900 |\n",
       "| 0.2025 |\n",
       "| 0.3600 |\n",
       "| 0.4050 |\n",
       "| 0.3825 |\n",
       "| 0.1800 |\n",
       "| 0.9225 |\n",
       "| 0.5625 |\n",
       "| 0.4275 |\n",
       "| 0.2700 |\n",
       "| 0.2475 |\n",
       "| 1.9350 |\n",
       "| 1.7100 |\n",
       "\n"
      ],
      "text/plain": [
       "   y     \n",
       "1  0.0650\n",
       "2  0.1100\n",
       "3  0.1900\n",
       "4  0.1450\n",
       "5  0.1000\n",
       "6  0.0525\n",
       "7  0.0600\n",
       "8  0.0225\n",
       "9  0.1375\n",
       "10 0.1075\n",
       "11 0.0575\n",
       "12 0.0700\n",
       "13 0.2400\n",
       "14 0.3425\n",
       "15 0.0900\n",
       "16 0.0150\n",
       "17 0.4350\n",
       "18 0.2850\n",
       "19 0.1800\n",
       "20 0.0450\n",
       "21 0.2475\n",
       "22 0.3375\n",
       "23 0.3150\n",
       "24 0.0225\n",
       "25 0.2250\n",
       "26 0.2925\n",
       "27 0.0450\n",
       "28 0.6750\n",
       "29 0.4725\n",
       "30 0.0900\n",
       "31 0.2025\n",
       "32 0.3600\n",
       "33 0.4050\n",
       "34 0.3825\n",
       "35 0.1800\n",
       "36 0.9225\n",
       "37 0.5625\n",
       "38 0.4275\n",
       "39 0.2700\n",
       "40 0.2475\n",
       "41 1.9350\n",
       "42 1.7100"
      ]
     },
     "metadata": {},
     "output_type": "display_data"
    }
   ],
   "source": [
    "## Returning the 42 errors by cv function:\n",
    "\n",
    "cv(train.data, train.label, 4, 42)"
   ]
  },
  {
   "cell_type": "markdown",
   "metadata": {},
   "source": [
    "# II:"
   ]
  },
  {
   "cell_type": "code",
   "execution_count": 11,
   "metadata": {},
   "outputs": [],
   "source": [
    "## Calculate the training set missclassification rates for K in 1:15:\n",
    "\n",
    "miss <- data.frame('K'=1:15, 'train'=rep(1,15))\n",
    "for (k in 1:15){\n",
    "    train_y_pred <- cv(train.data, train.label, k, NROW(train.data))        ## Number of folds is the number of datapoints in the training set\n",
    "    \n",
    "    ## Calculating average of the errors returned by the cv function:\n",
    "\n",
    "    mean_train <- mean(train_y_pred$y, na.rm=TRUE)\n",
    "    \n",
    "    ## Storing the mean of errors for each K:\n",
    "\n",
    "    miss[k,'train'] <- (mean_train)\n",
    "}"
   ]
  },
  {
   "cell_type": "code",
   "execution_count": 12,
   "metadata": {},
   "outputs": [
    {
     "data": {
      "image/png": "[encoded data removed]",
      "text/plain": [
       "plot without title"
      ]
     },
     "metadata": {
      "image/png": {
       "height": 420,
       "width": 420
      },
      "text/plain": {
       "height": 420,
       "width": 420
      }
     },
     "output_type": "display_data"
    }
   ],
   "source": [
    "## Plot misclassification percentage for training dataset:\n",
    "\n",
    "miss.m <- melt(miss, id='K') # reshape for visualization\n",
    "names(miss.m) <- c('K', 'type', 'error')\n",
    "ggplot(data=miss.m, aes(x=(1/K), y=error, color=type)) + geom_line(size=1) +\n",
    "       scale_color_discrete(guide = guide_legend(title = NULL)) + theme_minimal() +\n",
    "       ggtitle(\"Missclassification Error for LOOCV\")"
   ]
  },
  {
   "cell_type": "markdown",
   "metadata": {},
   "source": [
    "# III:\n",
    "## Observation:\n",
    "\n",
    "- It is evident from the graph above that the error is minimum when **1/K = 0.25**.\n",
    "- This means at **K = 4**, the error is going to be the least and hence the **optimum value** for **K is 4**."
   ]
  },
  {
   "cell_type": "code",
   "execution_count": null,
   "metadata": {},
   "outputs": [],
   "source": []
  }
 ],
 "metadata": {
  "kernelspec": {
   "display_name": "R",
   "language": "R",
   "name": "ir"
  },
  "language_info": {
   "codemirror_mode": "r",
   "file_extension": ".r",
   "mimetype": "text/x-r-source",
   "name": "R",
   "pygments_lexer": "r",
   "version": "4.0.0"
  }
 },
 "nbformat": 4,
 "nbformat_minor": 2
}
