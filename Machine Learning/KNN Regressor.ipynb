{
 "cells": [
  {
   "cell_type": "markdown",
   "metadata": {},
   "source": [
    "# Implementing KNN Regressor:"
   ]
  },
  {
   "cell_type": "markdown",
   "metadata": {},
   "source": [
    "# I:"
   ]
  },
  {
   "cell_type": "code",
   "execution_count": 1,
   "metadata": {},
   "outputs": [
    {
     "name": "stderr",
     "output_type": "stream",
     "text": [
      "corrplot 0.84 loaded\n",
      "\n"
     ]
    }
   ],
   "source": [
    "## Loading the necessary libraries:\n",
    "\n",
    "library(reshape2)\n",
    "library(ggplot2)\n",
    "library(corrplot)\n",
    "library(\"Cairo\")\n",
    "library(repr)"
   ]
  },
  {
   "cell_type": "code",
   "execution_count": 2,
   "metadata": {},
   "outputs": [],
   "source": [
    "## Reading the training and testing files for the task in R:\n",
    "\n",
    "train_data <- read.csv(\"Task1A_train.csv\")\n",
    "test_data <- read.csv(\"Task1A_test.csv\")"
   ]
  },
  {
   "cell_type": "code",
   "execution_count": 3,
   "metadata": {
    "scrolled": true
   },
   "outputs": [
    {
     "data": {
      "text/html": [
       "<table>\n",
       "<caption>A data.frame: 6 × 2</caption>\n",
       "<thead>\n",
       "\t<tr><th></th><th scope=col>x1</th><th scope=col>y</th></tr>\n",
       "\t<tr><th></th><th scope=col>&lt;dbl&gt;</th><th scope=col>&lt;dbl&gt;</th></tr>\n",
       "</thead>\n",
       "<tbody>\n",
       "\t<tr><th scope=row>1</th><td>1960.0</td><td>0.71</td></tr>\n",
       "\t<tr><th scope=row>2</th><td>1960.5</td><td>0.85</td></tr>\n",
       "\t<tr><th scope=row>3</th><td>1961.0</td><td>0.61</td></tr>\n",
       "\t<tr><th scope=row>4</th><td>1961.5</td><td>0.92</td></tr>\n",
       "\t<tr><th scope=row>5</th><td>1962.0</td><td>0.72</td></tr>\n",
       "\t<tr><th scope=row>6</th><td>1962.5</td><td>0.92</td></tr>\n",
       "</tbody>\n",
       "</table>\n"
      ],
      "text/latex": [
       "A data.frame: 6 × 2\n",
       "\\begin{tabular}{r|ll}\n",
       "  & x1 & y\\\\\n",
       "  & <dbl> & <dbl>\\\\\n",
       "\\hline\n",
       "\t1 & 1960.0 & 0.71\\\\\n",
       "\t2 & 1960.5 & 0.85\\\\\n",
       "\t3 & 1961.0 & 0.61\\\\\n",
       "\t4 & 1961.5 & 0.92\\\\\n",
       "\t5 & 1962.0 & 0.72\\\\\n",
       "\t6 & 1962.5 & 0.92\\\\\n",
       "\\end{tabular}\n"
      ],
      "text/markdown": [
       "\n",
       "A data.frame: 6 × 2\n",
       "\n",
       "| <!--/--> | x1 &lt;dbl&gt; | y &lt;dbl&gt; |\n",
       "|---|---|---|\n",
       "| 1 | 1960.0 | 0.71 |\n",
       "| 2 | 1960.5 | 0.85 |\n",
       "| 3 | 1961.0 | 0.61 |\n",
       "| 4 | 1961.5 | 0.92 |\n",
       "| 5 | 1962.0 | 0.72 |\n",
       "| 6 | 1962.5 | 0.92 |\n",
       "\n"
      ],
      "text/plain": [
       "  x1     y   \n",
       "1 1960.0 0.71\n",
       "2 1960.5 0.85\n",
       "3 1961.0 0.61\n",
       "4 1961.5 0.92\n",
       "5 1962.0 0.72\n",
       "6 1962.5 0.92"
      ]
     },
     "metadata": {},
     "output_type": "display_data"
    },
    {
     "data": {
      "text/html": [
       "<table>\n",
       "<caption>A data.frame: 6 × 2</caption>\n",
       "<thead>\n",
       "\t<tr><th></th><th scope=col>x1</th><th scope=col>y</th></tr>\n",
       "\t<tr><th></th><th scope=col>&lt;dbl&gt;</th><th scope=col>&lt;dbl&gt;</th></tr>\n",
       "</thead>\n",
       "<tbody>\n",
       "\t<tr><th scope=row>1</th><td>1960.25</td><td>0.63</td></tr>\n",
       "\t<tr><th scope=row>2</th><td>1960.75</td><td>0.44</td></tr>\n",
       "\t<tr><th scope=row>3</th><td>1961.25</td><td>0.69</td></tr>\n",
       "\t<tr><th scope=row>4</th><td>1961.75</td><td>0.55</td></tr>\n",
       "\t<tr><th scope=row>5</th><td>1962.25</td><td>0.77</td></tr>\n",
       "\t<tr><th scope=row>6</th><td>1962.75</td><td>0.60</td></tr>\n",
       "</tbody>\n",
       "</table>\n"
      ],
      "text/latex": [
       "A data.frame: 6 × 2\n",
       "\\begin{tabular}{r|ll}\n",
       "  & x1 & y\\\\\n",
       "  & <dbl> & <dbl>\\\\\n",
       "\\hline\n",
       "\t1 & 1960.25 & 0.63\\\\\n",
       "\t2 & 1960.75 & 0.44\\\\\n",
       "\t3 & 1961.25 & 0.69\\\\\n",
       "\t4 & 1961.75 & 0.55\\\\\n",
       "\t5 & 1962.25 & 0.77\\\\\n",
       "\t6 & 1962.75 & 0.60\\\\\n",
       "\\end{tabular}\n"
      ],
      "text/markdown": [
       "\n",
       "A data.frame: 6 × 2\n",
       "\n",
       "| <!--/--> | x1 &lt;dbl&gt; | y &lt;dbl&gt; |\n",
       "|---|---|---|\n",
       "| 1 | 1960.25 | 0.63 |\n",
       "| 2 | 1960.75 | 0.44 |\n",
       "| 3 | 1961.25 | 0.69 |\n",
       "| 4 | 1961.75 | 0.55 |\n",
       "| 5 | 1962.25 | 0.77 |\n",
       "| 6 | 1962.75 | 0.60 |\n",
       "\n"
      ],
      "text/plain": [
       "  x1      y   \n",
       "1 1960.25 0.63\n",
       "2 1960.75 0.44\n",
       "3 1961.25 0.69\n",
       "4 1961.75 0.55\n",
       "5 1962.25 0.77\n",
       "6 1962.75 0.60"
      ]
     },
     "metadata": {},
     "output_type": "display_data"
    }
   ],
   "source": [
    "## Taking a look at the data:\n",
    "\n",
    "head(train_data)\n",
    "head(test_data)"
   ]
  },
  {
   "cell_type": "code",
   "execution_count": 4,
   "metadata": {},
   "outputs": [
    {
     "data": {
      "text/html": [
       "<style>\n",
       ".list-inline {list-style: none; margin:0; padding: 0}\n",
       ".list-inline>li {display: inline-block}\n",
       ".list-inline>li:not(:last-child)::after {content: \"\\00b7\"; padding: 0 .5ex}\n",
       "</style>\n",
       "<ol class=list-inline><li>42</li><li>2</li></ol>\n"
      ],
      "text/latex": [
       "\\begin{enumerate*}\n",
       "\\item 42\n",
       "\\item 2\n",
       "\\end{enumerate*}\n"
      ],
      "text/markdown": [
       "1. 42\n",
       "2. 2\n",
       "\n",
       "\n"
      ],
      "text/plain": [
       "[1] 42  2"
      ]
     },
     "metadata": {},
     "output_type": "display_data"
    },
    {
     "data": {
      "text/html": [
       "<style>\n",
       ".list-inline {list-style: none; margin:0; padding: 0}\n",
       ".list-inline>li {display: inline-block}\n",
       ".list-inline>li:not(:last-child)::after {content: \"\\00b7\"; padding: 0 .5ex}\n",
       "</style>\n",
       "<ol class=list-inline><li>42</li><li>2</li></ol>\n"
      ],
      "text/latex": [
       "\\begin{enumerate*}\n",
       "\\item 42\n",
       "\\item 2\n",
       "\\end{enumerate*}\n"
      ],
      "text/markdown": [
       "1. 42\n",
       "2. 2\n",
       "\n",
       "\n"
      ],
      "text/plain": [
       "[1] 42  2"
      ]
     },
     "metadata": {},
     "output_type": "display_data"
    }
   ],
   "source": [
    "## Checking the dimensions of the dataframes:\n",
    "\n",
    "dim(train_data)\n",
    "dim(test_data)"
   ]
  },
  {
   "cell_type": "markdown",
   "metadata": {},
   "source": [
    "## Visualization:\n",
    "\n",
    "### Taking a look at the data and observing the relation between input and target variables:"
   ]
  },
  {
   "cell_type": "code",
   "execution_count": 5,
   "metadata": {
    "scrolled": false
   },
   "outputs": [
    {
     "data": {
      "image/png": "[encoded data removed]",
      "text/plain": [
       "plot without title"
      ]
     },
     "metadata": {
      "image/png": {
       "height": 420,
       "width": 420
      },
      "text/plain": {
       "height": 420,
       "width": 420
      }
     },
     "output_type": "display_data"
    }
   ],
   "source": [
    "ggplot(data=train_data, aes(x=x1, y=y, color=y)) + \n",
    "    geom_point() + geom_rug()+ theme_minimal() + ggtitle(\"Relationship between predictor(x1) and target variables(y)\")"
   ]
  },
  {
   "cell_type": "markdown",
   "metadata": {},
   "source": [
    "### Training and Testing Sets:"
   ]
  },
  {
   "cell_type": "code",
   "execution_count": 6,
   "metadata": {},
   "outputs": [],
   "source": [
    "## Create  training and testing input and target data:\n",
    "\n",
    "train.data <- train_data[ 1] \n",
    "train.label <- train_data[-1]\n",
    "test.data <- test_data[1] \n",
    "test.label <- test_data[-1]\n",
    "\n",
    "train.len <- nrow(train.data)\n",
    "test.len <- nrow(test.data)"
   ]
  },
  {
   "cell_type": "code",
   "execution_count": 7,
   "metadata": {
    "scrolled": true
   },
   "outputs": [
    {
     "data": {
      "text/html": [
       "<table>\n",
       "<caption>A data.frame: 6 × 1</caption>\n",
       "<thead>\n",
       "\t<tr><th></th><th scope=col>x1</th></tr>\n",
       "\t<tr><th></th><th scope=col>&lt;dbl&gt;</th></tr>\n",
       "</thead>\n",
       "<tbody>\n",
       "\t<tr><th scope=row>1</th><td>1960.0</td></tr>\n",
       "\t<tr><th scope=row>2</th><td>1960.5</td></tr>\n",
       "\t<tr><th scope=row>3</th><td>1961.0</td></tr>\n",
       "\t<tr><th scope=row>4</th><td>1961.5</td></tr>\n",
       "\t<tr><th scope=row>5</th><td>1962.0</td></tr>\n",
       "\t<tr><th scope=row>6</th><td>1962.5</td></tr>\n",
       "</tbody>\n",
       "</table>\n"
      ],
      "text/latex": [
       "A data.frame: 6 × 1\n",
       "\\begin{tabular}{r|l}\n",
       "  & x1\\\\\n",
       "  & <dbl>\\\\\n",
       "\\hline\n",
       "\t1 & 1960.0\\\\\n",
       "\t2 & 1960.5\\\\\n",
       "\t3 & 1961.0\\\\\n",
       "\t4 & 1961.5\\\\\n",
       "\t5 & 1962.0\\\\\n",
       "\t6 & 1962.5\\\\\n",
       "\\end{tabular}\n"
      ],
      "text/markdown": [
       "\n",
       "A data.frame: 6 × 1\n",
       "\n",
       "| <!--/--> | x1 &lt;dbl&gt; |\n",
       "|---|---|\n",
       "| 1 | 1960.0 |\n",
       "| 2 | 1960.5 |\n",
       "| 3 | 1961.0 |\n",
       "| 4 | 1961.5 |\n",
       "| 5 | 1962.0 |\n",
       "| 6 | 1962.5 |\n",
       "\n"
      ],
      "text/plain": [
       "  x1    \n",
       "1 1960.0\n",
       "2 1960.5\n",
       "3 1961.0\n",
       "4 1961.5\n",
       "5 1962.0\n",
       "6 1962.5"
      ]
     },
     "metadata": {},
     "output_type": "display_data"
    },
    {
     "data": {
      "text/html": [
       "<table>\n",
       "<caption>A data.frame: 6 × 1</caption>\n",
       "<thead>\n",
       "\t<tr><th></th><th scope=col>y</th></tr>\n",
       "\t<tr><th></th><th scope=col>&lt;dbl&gt;</th></tr>\n",
       "</thead>\n",
       "<tbody>\n",
       "\t<tr><th scope=row>1</th><td>0.71</td></tr>\n",
       "\t<tr><th scope=row>2</th><td>0.85</td></tr>\n",
       "\t<tr><th scope=row>3</th><td>0.61</td></tr>\n",
       "\t<tr><th scope=row>4</th><td>0.92</td></tr>\n",
       "\t<tr><th scope=row>5</th><td>0.72</td></tr>\n",
       "\t<tr><th scope=row>6</th><td>0.92</td></tr>\n",
       "</tbody>\n",
       "</table>\n"
      ],
      "text/latex": [
       "A data.frame: 6 × 1\n",
       "\\begin{tabular}{r|l}\n",
       "  & y\\\\\n",
       "  & <dbl>\\\\\n",
       "\\hline\n",
       "\t1 & 0.71\\\\\n",
       "\t2 & 0.85\\\\\n",
       "\t3 & 0.61\\\\\n",
       "\t4 & 0.92\\\\\n",
       "\t5 & 0.72\\\\\n",
       "\t6 & 0.92\\\\\n",
       "\\end{tabular}\n"
      ],
      "text/markdown": [
       "\n",
       "A data.frame: 6 × 1\n",
       "\n",
       "| <!--/--> | y &lt;dbl&gt; |\n",
       "|---|---|\n",
       "| 1 | 0.71 |\n",
       "| 2 | 0.85 |\n",
       "| 3 | 0.61 |\n",
       "| 4 | 0.92 |\n",
       "| 5 | 0.72 |\n",
       "| 6 | 0.92 |\n",
       "\n"
      ],
      "text/plain": [
       "  y   \n",
       "1 0.71\n",
       "2 0.85\n",
       "3 0.61\n",
       "4 0.92\n",
       "5 0.72\n",
       "6 0.92"
      ]
     },
     "metadata": {},
     "output_type": "display_data"
    },
    {
     "data": {
      "text/html": [
       "<table>\n",
       "<caption>A data.frame: 6 × 1</caption>\n",
       "<thead>\n",
       "\t<tr><th></th><th scope=col>x1</th></tr>\n",
       "\t<tr><th></th><th scope=col>&lt;dbl&gt;</th></tr>\n",
       "</thead>\n",
       "<tbody>\n",
       "\t<tr><th scope=row>1</th><td>1960.25</td></tr>\n",
       "\t<tr><th scope=row>2</th><td>1960.75</td></tr>\n",
       "\t<tr><th scope=row>3</th><td>1961.25</td></tr>\n",
       "\t<tr><th scope=row>4</th><td>1961.75</td></tr>\n",
       "\t<tr><th scope=row>5</th><td>1962.25</td></tr>\n",
       "\t<tr><th scope=row>6</th><td>1962.75</td></tr>\n",
       "</tbody>\n",
       "</table>\n"
      ],
      "text/latex": [
       "A data.frame: 6 × 1\n",
       "\\begin{tabular}{r|l}\n",
       "  & x1\\\\\n",
       "  & <dbl>\\\\\n",
       "\\hline\n",
       "\t1 & 1960.25\\\\\n",
       "\t2 & 1960.75\\\\\n",
       "\t3 & 1961.25\\\\\n",
       "\t4 & 1961.75\\\\\n",
       "\t5 & 1962.25\\\\\n",
       "\t6 & 1962.75\\\\\n",
       "\\end{tabular}\n"
      ],
      "text/markdown": [
       "\n",
       "A data.frame: 6 × 1\n",
       "\n",
       "| <!--/--> | x1 &lt;dbl&gt; |\n",
       "|---|---|\n",
       "| 1 | 1960.25 |\n",
       "| 2 | 1960.75 |\n",
       "| 3 | 1961.25 |\n",
       "| 4 | 1961.75 |\n",
       "| 5 | 1962.25 |\n",
       "| 6 | 1962.75 |\n",
       "\n"
      ],
      "text/plain": [
       "  x1     \n",
       "1 1960.25\n",
       "2 1960.75\n",
       "3 1961.25\n",
       "4 1961.75\n",
       "5 1962.25\n",
       "6 1962.75"
      ]
     },
     "metadata": {},
     "output_type": "display_data"
    },
    {
     "data": {
      "text/html": [
       "<table>\n",
       "<caption>A data.frame: 6 × 1</caption>\n",
       "<thead>\n",
       "\t<tr><th></th><th scope=col>y</th></tr>\n",
       "\t<tr><th></th><th scope=col>&lt;dbl&gt;</th></tr>\n",
       "</thead>\n",
       "<tbody>\n",
       "\t<tr><th scope=row>1</th><td>0.63</td></tr>\n",
       "\t<tr><th scope=row>2</th><td>0.44</td></tr>\n",
       "\t<tr><th scope=row>3</th><td>0.69</td></tr>\n",
       "\t<tr><th scope=row>4</th><td>0.55</td></tr>\n",
       "\t<tr><th scope=row>5</th><td>0.77</td></tr>\n",
       "\t<tr><th scope=row>6</th><td>0.60</td></tr>\n",
       "</tbody>\n",
       "</table>\n"
      ],
      "text/latex": [
       "A data.frame: 6 × 1\n",
       "\\begin{tabular}{r|l}\n",
       "  & y\\\\\n",
       "  & <dbl>\\\\\n",
       "\\hline\n",
       "\t1 & 0.63\\\\\n",
       "\t2 & 0.44\\\\\n",
       "\t3 & 0.69\\\\\n",
       "\t4 & 0.55\\\\\n",
       "\t5 & 0.77\\\\\n",
       "\t6 & 0.60\\\\\n",
       "\\end{tabular}\n"
      ],
      "text/markdown": [
       "\n",
       "A data.frame: 6 × 1\n",
       "\n",
       "| <!--/--> | y &lt;dbl&gt; |\n",
       "|---|---|\n",
       "| 1 | 0.63 |\n",
       "| 2 | 0.44 |\n",
       "| 3 | 0.69 |\n",
       "| 4 | 0.55 |\n",
       "| 5 | 0.77 |\n",
       "| 6 | 0.60 |\n",
       "\n"
      ],
      "text/plain": [
       "  y   \n",
       "1 0.63\n",
       "2 0.44\n",
       "3 0.69\n",
       "4 0.55\n",
       "5 0.77\n",
       "6 0.60"
      ]
     },
     "metadata": {},
     "output_type": "display_data"
    }
   ],
   "source": [
    "## Checking the new dataframes:\n",
    "\n",
    "head(train.data)\n",
    "head(train.label)\n",
    " \n",
    "head(test.data)\n",
    "head(test.label)"
   ]
  },
  {
   "cell_type": "markdown",
   "metadata": {},
   "source": [
    "## KNN Regressor:\n",
    "\n",
    "* Unlike **KNN Classifier** which is based on the concept of **`majority`**, **KNN Regressor** is based on **`mean`** of the data.\n",
    "* Distance is calculated using **Manhattan** distance method wherein the distance between 2 points is found by adding the **absolute** of differences between the points."
   ]
  },
  {
   "cell_type": "code",
   "execution_count": 8,
   "metadata": {},
   "outputs": [],
   "source": [
    "## KNN Regressor function where mean is calculated of k-nearest neighbours instead of the majority votes among them:\n",
    "\n",
    "\n",
    "knn <- function(train.data, train.label, test.data, K=3, distance = 'manhattan'){\n",
    "    \n",
    "    ## Count the number of training data:\n",
    "    \n",
    "    train.len <- nrow(train.data)\n",
    "    \n",
    "    ## Count the number of test data:\n",
    "    \n",
    "    test.len <- nrow(test.data)\n",
    "    \n",
    "    ## Calculate distances between the data:\n",
    "    \n",
    "    dist <- as.matrix(dist(rbind(test.data, train.data), method= distance))[1:test.len, (test.len+1):(test.len+train.len)]\n",
    "    \n",
    "    train.label <- data.frame(train.label)\n",
    "    test.label <- data.frame(test.label)\n",
    "        \n",
    "    ## For each test data point:\n",
    "    \n",
    "    for (i in 1:test.len){\n",
    "        \n",
    "        ## Find its K nearest neighbours from training samples:\n",
    "        \n",
    "        nn <- as.data.frame(sort(dist[i,], index.return = TRUE))[1:K,2]\n",
    "        \n",
    "        ## Calculate the predicted labels according to the mean of the nearest neighbours:\n",
    "        \n",
    "        test.label[i,]<- mean(train.label[nn,])\n",
    "    }\n",
    "    \n",
    "    ## Return the class labels as output:\n",
    "    \n",
    "    return (test.label)\n",
    "}"
   ]
  },
  {
   "cell_type": "code",
   "execution_count": 9,
   "metadata": {
    "scrolled": true
   },
   "outputs": [
    {
     "data": {
      "text/html": [
       "<table>\n",
       "<caption>A matrix: 42 × 42 of type dbl</caption>\n",
       "<thead>\n",
       "\t<tr><th></th><th scope=col>43</th><th scope=col>44</th><th scope=col>45</th><th scope=col>46</th><th scope=col>47</th><th scope=col>48</th><th scope=col>49</th><th scope=col>50</th><th scope=col>51</th><th scope=col>52</th><th scope=col>...</th><th scope=col>75</th><th scope=col>76</th><th scope=col>77</th><th scope=col>78</th><th scope=col>79</th><th scope=col>80</th><th scope=col>81</th><th scope=col>82</th><th scope=col>83</th><th scope=col>84</th></tr>\n",
       "</thead>\n",
       "<tbody>\n",
       "\t<tr><th scope=row>1</th><td> 0.25</td><td> 0.25</td><td> 0.75</td><td> 1.25</td><td> 1.75</td><td> 2.25</td><td> 2.75</td><td> 3.25</td><td> 3.75</td><td> 4.25</td><td>...</td><td>15.75</td><td>16.25</td><td>16.75</td><td>17.25</td><td>17.75</td><td>18.25</td><td>18.75</td><td>19.25</td><td>19.75</td><td>20.25</td></tr>\n",
       "\t<tr><th scope=row>2</th><td> 0.75</td><td> 0.25</td><td> 0.25</td><td> 0.75</td><td> 1.25</td><td> 1.75</td><td> 2.25</td><td> 2.75</td><td> 3.25</td><td> 3.75</td><td>...</td><td>15.25</td><td>15.75</td><td>16.25</td><td>16.75</td><td>17.25</td><td>17.75</td><td>18.25</td><td>18.75</td><td>19.25</td><td>19.75</td></tr>\n",
       "\t<tr><th scope=row>3</th><td> 1.25</td><td> 0.75</td><td> 0.25</td><td> 0.25</td><td> 0.75</td><td> 1.25</td><td> 1.75</td><td> 2.25</td><td> 2.75</td><td> 3.25</td><td>...</td><td>14.75</td><td>15.25</td><td>15.75</td><td>16.25</td><td>16.75</td><td>17.25</td><td>17.75</td><td>18.25</td><td>18.75</td><td>19.25</td></tr>\n",
       "\t<tr><th scope=row>4</th><td> 1.75</td><td> 1.25</td><td> 0.75</td><td> 0.25</td><td> 0.25</td><td> 0.75</td><td> 1.25</td><td> 1.75</td><td> 2.25</td><td> 2.75</td><td>...</td><td>14.25</td><td>14.75</td><td>15.25</td><td>15.75</td><td>16.25</td><td>16.75</td><td>17.25</td><td>17.75</td><td>18.25</td><td>18.75</td></tr>\n",
       "\t<tr><th scope=row>5</th><td> 2.25</td><td> 1.75</td><td> 1.25</td><td> 0.75</td><td> 0.25</td><td> 0.25</td><td> 0.75</td><td> 1.25</td><td> 1.75</td><td> 2.25</td><td>...</td><td>13.75</td><td>14.25</td><td>14.75</td><td>15.25</td><td>15.75</td><td>16.25</td><td>16.75</td><td>17.25</td><td>17.75</td><td>18.25</td></tr>\n",
       "\t<tr><th scope=row>6</th><td> 2.75</td><td> 2.25</td><td> 1.75</td><td> 1.25</td><td> 0.75</td><td> 0.25</td><td> 0.25</td><td> 0.75</td><td> 1.25</td><td> 1.75</td><td>...</td><td>13.25</td><td>13.75</td><td>14.25</td><td>14.75</td><td>15.25</td><td>15.75</td><td>16.25</td><td>16.75</td><td>17.25</td><td>17.75</td></tr>\n",
       "\t<tr><th scope=row>7</th><td> 3.25</td><td> 2.75</td><td> 2.25</td><td> 1.75</td><td> 1.25</td><td> 0.75</td><td> 0.25</td><td> 0.25</td><td> 0.75</td><td> 1.25</td><td>...</td><td>12.75</td><td>13.25</td><td>13.75</td><td>14.25</td><td>14.75</td><td>15.25</td><td>15.75</td><td>16.25</td><td>16.75</td><td>17.25</td></tr>\n",
       "\t<tr><th scope=row>8</th><td> 3.75</td><td> 3.25</td><td> 2.75</td><td> 2.25</td><td> 1.75</td><td> 1.25</td><td> 0.75</td><td> 0.25</td><td> 0.25</td><td> 0.75</td><td>...</td><td>12.25</td><td>12.75</td><td>13.25</td><td>13.75</td><td>14.25</td><td>14.75</td><td>15.25</td><td>15.75</td><td>16.25</td><td>16.75</td></tr>\n",
       "\t<tr><th scope=row>9</th><td> 4.25</td><td> 3.75</td><td> 3.25</td><td> 2.75</td><td> 2.25</td><td> 1.75</td><td> 1.25</td><td> 0.75</td><td> 0.25</td><td> 0.25</td><td>...</td><td>11.75</td><td>12.25</td><td>12.75</td><td>13.25</td><td>13.75</td><td>14.25</td><td>14.75</td><td>15.25</td><td>15.75</td><td>16.25</td></tr>\n",
       "\t<tr><th scope=row>10</th><td> 4.75</td><td> 4.25</td><td> 3.75</td><td> 3.25</td><td> 2.75</td><td> 2.25</td><td> 1.75</td><td> 1.25</td><td> 0.75</td><td> 0.25</td><td>...</td><td>11.25</td><td>11.75</td><td>12.25</td><td>12.75</td><td>13.25</td><td>13.75</td><td>14.25</td><td>14.75</td><td>15.25</td><td>15.75</td></tr>\n",
       "\t<tr><th scope=row>11</th><td> 5.25</td><td> 4.75</td><td> 4.25</td><td> 3.75</td><td> 3.25</td><td> 2.75</td><td> 2.25</td><td> 1.75</td><td> 1.25</td><td> 0.75</td><td>...</td><td>10.75</td><td>11.25</td><td>11.75</td><td>12.25</td><td>12.75</td><td>13.25</td><td>13.75</td><td>14.25</td><td>14.75</td><td>15.25</td></tr>\n",
       "\t<tr><th scope=row>12</th><td> 5.75</td><td> 5.25</td><td> 4.75</td><td> 4.25</td><td> 3.75</td><td> 3.25</td><td> 2.75</td><td> 2.25</td><td> 1.75</td><td> 1.25</td><td>...</td><td>10.25</td><td>10.75</td><td>11.25</td><td>11.75</td><td>12.25</td><td>12.75</td><td>13.25</td><td>13.75</td><td>14.25</td><td>14.75</td></tr>\n",
       "\t<tr><th scope=row>13</th><td> 6.25</td><td> 5.75</td><td> 5.25</td><td> 4.75</td><td> 4.25</td><td> 3.75</td><td> 3.25</td><td> 2.75</td><td> 2.25</td><td> 1.75</td><td>...</td><td> 9.75</td><td>10.25</td><td>10.75</td><td>11.25</td><td>11.75</td><td>12.25</td><td>12.75</td><td>13.25</td><td>13.75</td><td>14.25</td></tr>\n",
       "\t<tr><th scope=row>14</th><td> 6.75</td><td> 6.25</td><td> 5.75</td><td> 5.25</td><td> 4.75</td><td> 4.25</td><td> 3.75</td><td> 3.25</td><td> 2.75</td><td> 2.25</td><td>...</td><td> 9.25</td><td> 9.75</td><td>10.25</td><td>10.75</td><td>11.25</td><td>11.75</td><td>12.25</td><td>12.75</td><td>13.25</td><td>13.75</td></tr>\n",
       "\t<tr><th scope=row>15</th><td> 7.25</td><td> 6.75</td><td> 6.25</td><td> 5.75</td><td> 5.25</td><td> 4.75</td><td> 4.25</td><td> 3.75</td><td> 3.25</td><td> 2.75</td><td>...</td><td> 8.75</td><td> 9.25</td><td> 9.75</td><td>10.25</td><td>10.75</td><td>11.25</td><td>11.75</td><td>12.25</td><td>12.75</td><td>13.25</td></tr>\n",
       "\t<tr><th scope=row>16</th><td> 7.75</td><td> 7.25</td><td> 6.75</td><td> 6.25</td><td> 5.75</td><td> 5.25</td><td> 4.75</td><td> 4.25</td><td> 3.75</td><td> 3.25</td><td>...</td><td> 8.25</td><td> 8.75</td><td> 9.25</td><td> 9.75</td><td>10.25</td><td>10.75</td><td>11.25</td><td>11.75</td><td>12.25</td><td>12.75</td></tr>\n",
       "\t<tr><th scope=row>17</th><td> 8.25</td><td> 7.75</td><td> 7.25</td><td> 6.75</td><td> 6.25</td><td> 5.75</td><td> 5.25</td><td> 4.75</td><td> 4.25</td><td> 3.75</td><td>...</td><td> 7.75</td><td> 8.25</td><td> 8.75</td><td> 9.25</td><td> 9.75</td><td>10.25</td><td>10.75</td><td>11.25</td><td>11.75</td><td>12.25</td></tr>\n",
       "\t<tr><th scope=row>18</th><td> 8.75</td><td> 8.25</td><td> 7.75</td><td> 7.25</td><td> 6.75</td><td> 6.25</td><td> 5.75</td><td> 5.25</td><td> 4.75</td><td> 4.25</td><td>...</td><td> 7.25</td><td> 7.75</td><td> 8.25</td><td> 8.75</td><td> 9.25</td><td> 9.75</td><td>10.25</td><td>10.75</td><td>11.25</td><td>11.75</td></tr>\n",
       "\t<tr><th scope=row>19</th><td> 9.25</td><td> 8.75</td><td> 8.25</td><td> 7.75</td><td> 7.25</td><td> 6.75</td><td> 6.25</td><td> 5.75</td><td> 5.25</td><td> 4.75</td><td>...</td><td> 6.75</td><td> 7.25</td><td> 7.75</td><td> 8.25</td><td> 8.75</td><td> 9.25</td><td> 9.75</td><td>10.25</td><td>10.75</td><td>11.25</td></tr>\n",
       "\t<tr><th scope=row>20</th><td> 9.75</td><td> 9.25</td><td> 8.75</td><td> 8.25</td><td> 7.75</td><td> 7.25</td><td> 6.75</td><td> 6.25</td><td> 5.75</td><td> 5.25</td><td>...</td><td> 6.25</td><td> 6.75</td><td> 7.25</td><td> 7.75</td><td> 8.25</td><td> 8.75</td><td> 9.25</td><td> 9.75</td><td>10.25</td><td>10.75</td></tr>\n",
       "\t<tr><th scope=row>21</th><td>10.25</td><td> 9.75</td><td> 9.25</td><td> 8.75</td><td> 8.25</td><td> 7.75</td><td> 7.25</td><td> 6.75</td><td> 6.25</td><td> 5.75</td><td>...</td><td> 5.75</td><td> 6.25</td><td> 6.75</td><td> 7.25</td><td> 7.75</td><td> 8.25</td><td> 8.75</td><td> 9.25</td><td> 9.75</td><td>10.25</td></tr>\n",
       "\t<tr><th scope=row>22</th><td>10.75</td><td>10.25</td><td> 9.75</td><td> 9.25</td><td> 8.75</td><td> 8.25</td><td> 7.75</td><td> 7.25</td><td> 6.75</td><td> 6.25</td><td>...</td><td> 5.25</td><td> 5.75</td><td> 6.25</td><td> 6.75</td><td> 7.25</td><td> 7.75</td><td> 8.25</td><td> 8.75</td><td> 9.25</td><td> 9.75</td></tr>\n",
       "\t<tr><th scope=row>23</th><td>11.25</td><td>10.75</td><td>10.25</td><td> 9.75</td><td> 9.25</td><td> 8.75</td><td> 8.25</td><td> 7.75</td><td> 7.25</td><td> 6.75</td><td>...</td><td> 4.75</td><td> 5.25</td><td> 5.75</td><td> 6.25</td><td> 6.75</td><td> 7.25</td><td> 7.75</td><td> 8.25</td><td> 8.75</td><td> 9.25</td></tr>\n",
       "\t<tr><th scope=row>24</th><td>11.75</td><td>11.25</td><td>10.75</td><td>10.25</td><td> 9.75</td><td> 9.25</td><td> 8.75</td><td> 8.25</td><td> 7.75</td><td> 7.25</td><td>...</td><td> 4.25</td><td> 4.75</td><td> 5.25</td><td> 5.75</td><td> 6.25</td><td> 6.75</td><td> 7.25</td><td> 7.75</td><td> 8.25</td><td> 8.75</td></tr>\n",
       "\t<tr><th scope=row>25</th><td>12.25</td><td>11.75</td><td>11.25</td><td>10.75</td><td>10.25</td><td> 9.75</td><td> 9.25</td><td> 8.75</td><td> 8.25</td><td> 7.75</td><td>...</td><td> 3.75</td><td> 4.25</td><td> 4.75</td><td> 5.25</td><td> 5.75</td><td> 6.25</td><td> 6.75</td><td> 7.25</td><td> 7.75</td><td> 8.25</td></tr>\n",
       "\t<tr><th scope=row>26</th><td>12.75</td><td>12.25</td><td>11.75</td><td>11.25</td><td>10.75</td><td>10.25</td><td> 9.75</td><td> 9.25</td><td> 8.75</td><td> 8.25</td><td>...</td><td> 3.25</td><td> 3.75</td><td> 4.25</td><td> 4.75</td><td> 5.25</td><td> 5.75</td><td> 6.25</td><td> 6.75</td><td> 7.25</td><td> 7.75</td></tr>\n",
       "\t<tr><th scope=row>27</th><td>13.25</td><td>12.75</td><td>12.25</td><td>11.75</td><td>11.25</td><td>10.75</td><td>10.25</td><td> 9.75</td><td> 9.25</td><td> 8.75</td><td>...</td><td> 2.75</td><td> 3.25</td><td> 3.75</td><td> 4.25</td><td> 4.75</td><td> 5.25</td><td> 5.75</td><td> 6.25</td><td> 6.75</td><td> 7.25</td></tr>\n",
       "\t<tr><th scope=row>28</th><td>13.75</td><td>13.25</td><td>12.75</td><td>12.25</td><td>11.75</td><td>11.25</td><td>10.75</td><td>10.25</td><td> 9.75</td><td> 9.25</td><td>...</td><td> 2.25</td><td> 2.75</td><td> 3.25</td><td> 3.75</td><td> 4.25</td><td> 4.75</td><td> 5.25</td><td> 5.75</td><td> 6.25</td><td> 6.75</td></tr>\n",
       "\t<tr><th scope=row>29</th><td>14.25</td><td>13.75</td><td>13.25</td><td>12.75</td><td>12.25</td><td>11.75</td><td>11.25</td><td>10.75</td><td>10.25</td><td> 9.75</td><td>...</td><td> 1.75</td><td> 2.25</td><td> 2.75</td><td> 3.25</td><td> 3.75</td><td> 4.25</td><td> 4.75</td><td> 5.25</td><td> 5.75</td><td> 6.25</td></tr>\n",
       "\t<tr><th scope=row>30</th><td>14.75</td><td>14.25</td><td>13.75</td><td>13.25</td><td>12.75</td><td>12.25</td><td>11.75</td><td>11.25</td><td>10.75</td><td>10.25</td><td>...</td><td> 1.25</td><td> 1.75</td><td> 2.25</td><td> 2.75</td><td> 3.25</td><td> 3.75</td><td> 4.25</td><td> 4.75</td><td> 5.25</td><td> 5.75</td></tr>\n",
       "\t<tr><th scope=row>31</th><td>15.25</td><td>14.75</td><td>14.25</td><td>13.75</td><td>13.25</td><td>12.75</td><td>12.25</td><td>11.75</td><td>11.25</td><td>10.75</td><td>...</td><td> 0.75</td><td> 1.25</td><td> 1.75</td><td> 2.25</td><td> 2.75</td><td> 3.25</td><td> 3.75</td><td> 4.25</td><td> 4.75</td><td> 5.25</td></tr>\n",
       "\t<tr><th scope=row>32</th><td>15.75</td><td>15.25</td><td>14.75</td><td>14.25</td><td>13.75</td><td>13.25</td><td>12.75</td><td>12.25</td><td>11.75</td><td>11.25</td><td>...</td><td> 0.25</td><td> 0.75</td><td> 1.25</td><td> 1.75</td><td> 2.25</td><td> 2.75</td><td> 3.25</td><td> 3.75</td><td> 4.25</td><td> 4.75</td></tr>\n",
       "\t<tr><th scope=row>33</th><td>16.25</td><td>15.75</td><td>15.25</td><td>14.75</td><td>14.25</td><td>13.75</td><td>13.25</td><td>12.75</td><td>12.25</td><td>11.75</td><td>...</td><td> 0.25</td><td> 0.25</td><td> 0.75</td><td> 1.25</td><td> 1.75</td><td> 2.25</td><td> 2.75</td><td> 3.25</td><td> 3.75</td><td> 4.25</td></tr>\n",
       "\t<tr><th scope=row>34</th><td>16.75</td><td>16.25</td><td>15.75</td><td>15.25</td><td>14.75</td><td>14.25</td><td>13.75</td><td>13.25</td><td>12.75</td><td>12.25</td><td>...</td><td> 0.75</td><td> 0.25</td><td> 0.25</td><td> 0.75</td><td> 1.25</td><td> 1.75</td><td> 2.25</td><td> 2.75</td><td> 3.25</td><td> 3.75</td></tr>\n",
       "\t<tr><th scope=row>35</th><td>17.25</td><td>16.75</td><td>16.25</td><td>15.75</td><td>15.25</td><td>14.75</td><td>14.25</td><td>13.75</td><td>13.25</td><td>12.75</td><td>...</td><td> 1.25</td><td> 0.75</td><td> 0.25</td><td> 0.25</td><td> 0.75</td><td> 1.25</td><td> 1.75</td><td> 2.25</td><td> 2.75</td><td> 3.25</td></tr>\n",
       "\t<tr><th scope=row>36</th><td>17.75</td><td>17.25</td><td>16.75</td><td>16.25</td><td>15.75</td><td>15.25</td><td>14.75</td><td>14.25</td><td>13.75</td><td>13.25</td><td>...</td><td> 1.75</td><td> 1.25</td><td> 0.75</td><td> 0.25</td><td> 0.25</td><td> 0.75</td><td> 1.25</td><td> 1.75</td><td> 2.25</td><td> 2.75</td></tr>\n",
       "\t<tr><th scope=row>37</th><td>18.25</td><td>17.75</td><td>17.25</td><td>16.75</td><td>16.25</td><td>15.75</td><td>15.25</td><td>14.75</td><td>14.25</td><td>13.75</td><td>...</td><td> 2.25</td><td> 1.75</td><td> 1.25</td><td> 0.75</td><td> 0.25</td><td> 0.25</td><td> 0.75</td><td> 1.25</td><td> 1.75</td><td> 2.25</td></tr>\n",
       "\t<tr><th scope=row>38</th><td>18.75</td><td>18.25</td><td>17.75</td><td>17.25</td><td>16.75</td><td>16.25</td><td>15.75</td><td>15.25</td><td>14.75</td><td>14.25</td><td>...</td><td> 2.75</td><td> 2.25</td><td> 1.75</td><td> 1.25</td><td> 0.75</td><td> 0.25</td><td> 0.25</td><td> 0.75</td><td> 1.25</td><td> 1.75</td></tr>\n",
       "\t<tr><th scope=row>39</th><td>19.25</td><td>18.75</td><td>18.25</td><td>17.75</td><td>17.25</td><td>16.75</td><td>16.25</td><td>15.75</td><td>15.25</td><td>14.75</td><td>...</td><td> 3.25</td><td> 2.75</td><td> 2.25</td><td> 1.75</td><td> 1.25</td><td> 0.75</td><td> 0.25</td><td> 0.25</td><td> 0.75</td><td> 1.25</td></tr>\n",
       "\t<tr><th scope=row>40</th><td>19.75</td><td>19.25</td><td>18.75</td><td>18.25</td><td>17.75</td><td>17.25</td><td>16.75</td><td>16.25</td><td>15.75</td><td>15.25</td><td>...</td><td> 3.75</td><td> 3.25</td><td> 2.75</td><td> 2.25</td><td> 1.75</td><td> 1.25</td><td> 0.75</td><td> 0.25</td><td> 0.25</td><td> 0.75</td></tr>\n",
       "\t<tr><th scope=row>41</th><td>20.25</td><td>19.75</td><td>19.25</td><td>18.75</td><td>18.25</td><td>17.75</td><td>17.25</td><td>16.75</td><td>16.25</td><td>15.75</td><td>...</td><td> 4.25</td><td> 3.75</td><td> 3.25</td><td> 2.75</td><td> 2.25</td><td> 1.75</td><td> 1.25</td><td> 0.75</td><td> 0.25</td><td> 0.25</td></tr>\n",
       "\t<tr><th scope=row>42</th><td>20.75</td><td>20.25</td><td>19.75</td><td>19.25</td><td>18.75</td><td>18.25</td><td>17.75</td><td>17.25</td><td>16.75</td><td>16.25</td><td>...</td><td> 4.75</td><td> 4.25</td><td> 3.75</td><td> 3.25</td><td> 2.75</td><td> 2.25</td><td> 1.75</td><td> 1.25</td><td> 0.75</td><td> 0.25</td></tr>\n",
       "</tbody>\n",
       "</table>\n"
      ],
      "text/latex": [
       "A matrix: 42 × 42 of type dbl\n",
       "\\begin{tabular}{r|lllllllllllllllllllll}\n",
       "  & 43 & 44 & 45 & 46 & 47 & 48 & 49 & 50 & 51 & 52 & ... & 75 & 76 & 77 & 78 & 79 & 80 & 81 & 82 & 83 & 84\\\\\n",
       "\\hline\n",
       "\t1 &  0.25 &  0.25 &  0.75 &  1.25 &  1.75 &  2.25 &  2.75 &  3.25 &  3.75 &  4.25 & ... & 15.75 & 16.25 & 16.75 & 17.25 & 17.75 & 18.25 & 18.75 & 19.25 & 19.75 & 20.25\\\\\n",
       "\t2 &  0.75 &  0.25 &  0.25 &  0.75 &  1.25 &  1.75 &  2.25 &  2.75 &  3.25 &  3.75 & ... & 15.25 & 15.75 & 16.25 & 16.75 & 17.25 & 17.75 & 18.25 & 18.75 & 19.25 & 19.75\\\\\n",
       "\t3 &  1.25 &  0.75 &  0.25 &  0.25 &  0.75 &  1.25 &  1.75 &  2.25 &  2.75 &  3.25 & ... & 14.75 & 15.25 & 15.75 & 16.25 & 16.75 & 17.25 & 17.75 & 18.25 & 18.75 & 19.25\\\\\n",
       "\t4 &  1.75 &  1.25 &  0.75 &  0.25 &  0.25 &  0.75 &  1.25 &  1.75 &  2.25 &  2.75 & ... & 14.25 & 14.75 & 15.25 & 15.75 & 16.25 & 16.75 & 17.25 & 17.75 & 18.25 & 18.75\\\\\n",
       "\t5 &  2.25 &  1.75 &  1.25 &  0.75 &  0.25 &  0.25 &  0.75 &  1.25 &  1.75 &  2.25 & ... & 13.75 & 14.25 & 14.75 & 15.25 & 15.75 & 16.25 & 16.75 & 17.25 & 17.75 & 18.25\\\\\n",
       "\t6 &  2.75 &  2.25 &  1.75 &  1.25 &  0.75 &  0.25 &  0.25 &  0.75 &  1.25 &  1.75 & ... & 13.25 & 13.75 & 14.25 & 14.75 & 15.25 & 15.75 & 16.25 & 16.75 & 17.25 & 17.75\\\\\n",
       "\t7 &  3.25 &  2.75 &  2.25 &  1.75 &  1.25 &  0.75 &  0.25 &  0.25 &  0.75 &  1.25 & ... & 12.75 & 13.25 & 13.75 & 14.25 & 14.75 & 15.25 & 15.75 & 16.25 & 16.75 & 17.25\\\\\n",
       "\t8 &  3.75 &  3.25 &  2.75 &  2.25 &  1.75 &  1.25 &  0.75 &  0.25 &  0.25 &  0.75 & ... & 12.25 & 12.75 & 13.25 & 13.75 & 14.25 & 14.75 & 15.25 & 15.75 & 16.25 & 16.75\\\\\n",
       "\t9 &  4.25 &  3.75 &  3.25 &  2.75 &  2.25 &  1.75 &  1.25 &  0.75 &  0.25 &  0.25 & ... & 11.75 & 12.25 & 12.75 & 13.25 & 13.75 & 14.25 & 14.75 & 15.25 & 15.75 & 16.25\\\\\n",
       "\t10 &  4.75 &  4.25 &  3.75 &  3.25 &  2.75 &  2.25 &  1.75 &  1.25 &  0.75 &  0.25 & ... & 11.25 & 11.75 & 12.25 & 12.75 & 13.25 & 13.75 & 14.25 & 14.75 & 15.25 & 15.75\\\\\n",
       "\t11 &  5.25 &  4.75 &  4.25 &  3.75 &  3.25 &  2.75 &  2.25 &  1.75 &  1.25 &  0.75 & ... & 10.75 & 11.25 & 11.75 & 12.25 & 12.75 & 13.25 & 13.75 & 14.25 & 14.75 & 15.25\\\\\n",
       "\t12 &  5.75 &  5.25 &  4.75 &  4.25 &  3.75 &  3.25 &  2.75 &  2.25 &  1.75 &  1.25 & ... & 10.25 & 10.75 & 11.25 & 11.75 & 12.25 & 12.75 & 13.25 & 13.75 & 14.25 & 14.75\\\\\n",
       "\t13 &  6.25 &  5.75 &  5.25 &  4.75 &  4.25 &  3.75 &  3.25 &  2.75 &  2.25 &  1.75 & ... &  9.75 & 10.25 & 10.75 & 11.25 & 11.75 & 12.25 & 12.75 & 13.25 & 13.75 & 14.25\\\\\n",
       "\t14 &  6.75 &  6.25 &  5.75 &  5.25 &  4.75 &  4.25 &  3.75 &  3.25 &  2.75 &  2.25 & ... &  9.25 &  9.75 & 10.25 & 10.75 & 11.25 & 11.75 & 12.25 & 12.75 & 13.25 & 13.75\\\\\n",
       "\t15 &  7.25 &  6.75 &  6.25 &  5.75 &  5.25 &  4.75 &  4.25 &  3.75 &  3.25 &  2.75 & ... &  8.75 &  9.25 &  9.75 & 10.25 & 10.75 & 11.25 & 11.75 & 12.25 & 12.75 & 13.25\\\\\n",
       "\t16 &  7.75 &  7.25 &  6.75 &  6.25 &  5.75 &  5.25 &  4.75 &  4.25 &  3.75 &  3.25 & ... &  8.25 &  8.75 &  9.25 &  9.75 & 10.25 & 10.75 & 11.25 & 11.75 & 12.25 & 12.75\\\\\n",
       "\t17 &  8.25 &  7.75 &  7.25 &  6.75 &  6.25 &  5.75 &  5.25 &  4.75 &  4.25 &  3.75 & ... &  7.75 &  8.25 &  8.75 &  9.25 &  9.75 & 10.25 & 10.75 & 11.25 & 11.75 & 12.25\\\\\n",
       "\t18 &  8.75 &  8.25 &  7.75 &  7.25 &  6.75 &  6.25 &  5.75 &  5.25 &  4.75 &  4.25 & ... &  7.25 &  7.75 &  8.25 &  8.75 &  9.25 &  9.75 & 10.25 & 10.75 & 11.25 & 11.75\\\\\n",
       "\t19 &  9.25 &  8.75 &  8.25 &  7.75 &  7.25 &  6.75 &  6.25 &  5.75 &  5.25 &  4.75 & ... &  6.75 &  7.25 &  7.75 &  8.25 &  8.75 &  9.25 &  9.75 & 10.25 & 10.75 & 11.25\\\\\n",
       "\t20 &  9.75 &  9.25 &  8.75 &  8.25 &  7.75 &  7.25 &  6.75 &  6.25 &  5.75 &  5.25 & ... &  6.25 &  6.75 &  7.25 &  7.75 &  8.25 &  8.75 &  9.25 &  9.75 & 10.25 & 10.75\\\\\n",
       "\t21 & 10.25 &  9.75 &  9.25 &  8.75 &  8.25 &  7.75 &  7.25 &  6.75 &  6.25 &  5.75 & ... &  5.75 &  6.25 &  6.75 &  7.25 &  7.75 &  8.25 &  8.75 &  9.25 &  9.75 & 10.25\\\\\n",
       "\t22 & 10.75 & 10.25 &  9.75 &  9.25 &  8.75 &  8.25 &  7.75 &  7.25 &  6.75 &  6.25 & ... &  5.25 &  5.75 &  6.25 &  6.75 &  7.25 &  7.75 &  8.25 &  8.75 &  9.25 &  9.75\\\\\n",
       "\t23 & 11.25 & 10.75 & 10.25 &  9.75 &  9.25 &  8.75 &  8.25 &  7.75 &  7.25 &  6.75 & ... &  4.75 &  5.25 &  5.75 &  6.25 &  6.75 &  7.25 &  7.75 &  8.25 &  8.75 &  9.25\\\\\n",
       "\t24 & 11.75 & 11.25 & 10.75 & 10.25 &  9.75 &  9.25 &  8.75 &  8.25 &  7.75 &  7.25 & ... &  4.25 &  4.75 &  5.25 &  5.75 &  6.25 &  6.75 &  7.25 &  7.75 &  8.25 &  8.75\\\\\n",
       "\t25 & 12.25 & 11.75 & 11.25 & 10.75 & 10.25 &  9.75 &  9.25 &  8.75 &  8.25 &  7.75 & ... &  3.75 &  4.25 &  4.75 &  5.25 &  5.75 &  6.25 &  6.75 &  7.25 &  7.75 &  8.25\\\\\n",
       "\t26 & 12.75 & 12.25 & 11.75 & 11.25 & 10.75 & 10.25 &  9.75 &  9.25 &  8.75 &  8.25 & ... &  3.25 &  3.75 &  4.25 &  4.75 &  5.25 &  5.75 &  6.25 &  6.75 &  7.25 &  7.75\\\\\n",
       "\t27 & 13.25 & 12.75 & 12.25 & 11.75 & 11.25 & 10.75 & 10.25 &  9.75 &  9.25 &  8.75 & ... &  2.75 &  3.25 &  3.75 &  4.25 &  4.75 &  5.25 &  5.75 &  6.25 &  6.75 &  7.25\\\\\n",
       "\t28 & 13.75 & 13.25 & 12.75 & 12.25 & 11.75 & 11.25 & 10.75 & 10.25 &  9.75 &  9.25 & ... &  2.25 &  2.75 &  3.25 &  3.75 &  4.25 &  4.75 &  5.25 &  5.75 &  6.25 &  6.75\\\\\n",
       "\t29 & 14.25 & 13.75 & 13.25 & 12.75 & 12.25 & 11.75 & 11.25 & 10.75 & 10.25 &  9.75 & ... &  1.75 &  2.25 &  2.75 &  3.25 &  3.75 &  4.25 &  4.75 &  5.25 &  5.75 &  6.25\\\\\n",
       "\t30 & 14.75 & 14.25 & 13.75 & 13.25 & 12.75 & 12.25 & 11.75 & 11.25 & 10.75 & 10.25 & ... &  1.25 &  1.75 &  2.25 &  2.75 &  3.25 &  3.75 &  4.25 &  4.75 &  5.25 &  5.75\\\\\n",
       "\t31 & 15.25 & 14.75 & 14.25 & 13.75 & 13.25 & 12.75 & 12.25 & 11.75 & 11.25 & 10.75 & ... &  0.75 &  1.25 &  1.75 &  2.25 &  2.75 &  3.25 &  3.75 &  4.25 &  4.75 &  5.25\\\\\n",
       "\t32 & 15.75 & 15.25 & 14.75 & 14.25 & 13.75 & 13.25 & 12.75 & 12.25 & 11.75 & 11.25 & ... &  0.25 &  0.75 &  1.25 &  1.75 &  2.25 &  2.75 &  3.25 &  3.75 &  4.25 &  4.75\\\\\n",
       "\t33 & 16.25 & 15.75 & 15.25 & 14.75 & 14.25 & 13.75 & 13.25 & 12.75 & 12.25 & 11.75 & ... &  0.25 &  0.25 &  0.75 &  1.25 &  1.75 &  2.25 &  2.75 &  3.25 &  3.75 &  4.25\\\\\n",
       "\t34 & 16.75 & 16.25 & 15.75 & 15.25 & 14.75 & 14.25 & 13.75 & 13.25 & 12.75 & 12.25 & ... &  0.75 &  0.25 &  0.25 &  0.75 &  1.25 &  1.75 &  2.25 &  2.75 &  3.25 &  3.75\\\\\n",
       "\t35 & 17.25 & 16.75 & 16.25 & 15.75 & 15.25 & 14.75 & 14.25 & 13.75 & 13.25 & 12.75 & ... &  1.25 &  0.75 &  0.25 &  0.25 &  0.75 &  1.25 &  1.75 &  2.25 &  2.75 &  3.25\\\\\n",
       "\t36 & 17.75 & 17.25 & 16.75 & 16.25 & 15.75 & 15.25 & 14.75 & 14.25 & 13.75 & 13.25 & ... &  1.75 &  1.25 &  0.75 &  0.25 &  0.25 &  0.75 &  1.25 &  1.75 &  2.25 &  2.75\\\\\n",
       "\t37 & 18.25 & 17.75 & 17.25 & 16.75 & 16.25 & 15.75 & 15.25 & 14.75 & 14.25 & 13.75 & ... &  2.25 &  1.75 &  1.25 &  0.75 &  0.25 &  0.25 &  0.75 &  1.25 &  1.75 &  2.25\\\\\n",
       "\t38 & 18.75 & 18.25 & 17.75 & 17.25 & 16.75 & 16.25 & 15.75 & 15.25 & 14.75 & 14.25 & ... &  2.75 &  2.25 &  1.75 &  1.25 &  0.75 &  0.25 &  0.25 &  0.75 &  1.25 &  1.75\\\\\n",
       "\t39 & 19.25 & 18.75 & 18.25 & 17.75 & 17.25 & 16.75 & 16.25 & 15.75 & 15.25 & 14.75 & ... &  3.25 &  2.75 &  2.25 &  1.75 &  1.25 &  0.75 &  0.25 &  0.25 &  0.75 &  1.25\\\\\n",
       "\t40 & 19.75 & 19.25 & 18.75 & 18.25 & 17.75 & 17.25 & 16.75 & 16.25 & 15.75 & 15.25 & ... &  3.75 &  3.25 &  2.75 &  2.25 &  1.75 &  1.25 &  0.75 &  0.25 &  0.25 &  0.75\\\\\n",
       "\t41 & 20.25 & 19.75 & 19.25 & 18.75 & 18.25 & 17.75 & 17.25 & 16.75 & 16.25 & 15.75 & ... &  4.25 &  3.75 &  3.25 &  2.75 &  2.25 &  1.75 &  1.25 &  0.75 &  0.25 &  0.25\\\\\n",
       "\t42 & 20.75 & 20.25 & 19.75 & 19.25 & 18.75 & 18.25 & 17.75 & 17.25 & 16.75 & 16.25 & ... &  4.75 &  4.25 &  3.75 &  3.25 &  2.75 &  2.25 &  1.75 &  1.25 &  0.75 &  0.25\\\\\n",
       "\\end{tabular}\n"
      ],
      "text/markdown": [
       "\n",
       "A matrix: 42 × 42 of type dbl\n",
       "\n",
       "| <!--/--> | 43 | 44 | 45 | 46 | 47 | 48 | 49 | 50 | 51 | 52 | ... | 75 | 76 | 77 | 78 | 79 | 80 | 81 | 82 | 83 | 84 |\n",
       "|---|---|---|---|---|---|---|---|---|---|---|---|---|---|---|---|---|---|---|---|---|---|\n",
       "| 1 |  0.25 |  0.25 |  0.75 |  1.25 |  1.75 |  2.25 |  2.75 |  3.25 |  3.75 |  4.25 | ... | 15.75 | 16.25 | 16.75 | 17.25 | 17.75 | 18.25 | 18.75 | 19.25 | 19.75 | 20.25 |\n",
       "| 2 |  0.75 |  0.25 |  0.25 |  0.75 |  1.25 |  1.75 |  2.25 |  2.75 |  3.25 |  3.75 | ... | 15.25 | 15.75 | 16.25 | 16.75 | 17.25 | 17.75 | 18.25 | 18.75 | 19.25 | 19.75 |\n",
       "| 3 |  1.25 |  0.75 |  0.25 |  0.25 |  0.75 |  1.25 |  1.75 |  2.25 |  2.75 |  3.25 | ... | 14.75 | 15.25 | 15.75 | 16.25 | 16.75 | 17.25 | 17.75 | 18.25 | 18.75 | 19.25 |\n",
       "| 4 |  1.75 |  1.25 |  0.75 |  0.25 |  0.25 |  0.75 |  1.25 |  1.75 |  2.25 |  2.75 | ... | 14.25 | 14.75 | 15.25 | 15.75 | 16.25 | 16.75 | 17.25 | 17.75 | 18.25 | 18.75 |\n",
       "| 5 |  2.25 |  1.75 |  1.25 |  0.75 |  0.25 |  0.25 |  0.75 |  1.25 |  1.75 |  2.25 | ... | 13.75 | 14.25 | 14.75 | 15.25 | 15.75 | 16.25 | 16.75 | 17.25 | 17.75 | 18.25 |\n",
       "| 6 |  2.75 |  2.25 |  1.75 |  1.25 |  0.75 |  0.25 |  0.25 |  0.75 |  1.25 |  1.75 | ... | 13.25 | 13.75 | 14.25 | 14.75 | 15.25 | 15.75 | 16.25 | 16.75 | 17.25 | 17.75 |\n",
       "| 7 |  3.25 |  2.75 |  2.25 |  1.75 |  1.25 |  0.75 |  0.25 |  0.25 |  0.75 |  1.25 | ... | 12.75 | 13.25 | 13.75 | 14.25 | 14.75 | 15.25 | 15.75 | 16.25 | 16.75 | 17.25 |\n",
       "| 8 |  3.75 |  3.25 |  2.75 |  2.25 |  1.75 |  1.25 |  0.75 |  0.25 |  0.25 |  0.75 | ... | 12.25 | 12.75 | 13.25 | 13.75 | 14.25 | 14.75 | 15.25 | 15.75 | 16.25 | 16.75 |\n",
       "| 9 |  4.25 |  3.75 |  3.25 |  2.75 |  2.25 |  1.75 |  1.25 |  0.75 |  0.25 |  0.25 | ... | 11.75 | 12.25 | 12.75 | 13.25 | 13.75 | 14.25 | 14.75 | 15.25 | 15.75 | 16.25 |\n",
       "| 10 |  4.75 |  4.25 |  3.75 |  3.25 |  2.75 |  2.25 |  1.75 |  1.25 |  0.75 |  0.25 | ... | 11.25 | 11.75 | 12.25 | 12.75 | 13.25 | 13.75 | 14.25 | 14.75 | 15.25 | 15.75 |\n",
       "| 11 |  5.25 |  4.75 |  4.25 |  3.75 |  3.25 |  2.75 |  2.25 |  1.75 |  1.25 |  0.75 | ... | 10.75 | 11.25 | 11.75 | 12.25 | 12.75 | 13.25 | 13.75 | 14.25 | 14.75 | 15.25 |\n",
       "| 12 |  5.75 |  5.25 |  4.75 |  4.25 |  3.75 |  3.25 |  2.75 |  2.25 |  1.75 |  1.25 | ... | 10.25 | 10.75 | 11.25 | 11.75 | 12.25 | 12.75 | 13.25 | 13.75 | 14.25 | 14.75 |\n",
       "| 13 |  6.25 |  5.75 |  5.25 |  4.75 |  4.25 |  3.75 |  3.25 |  2.75 |  2.25 |  1.75 | ... |  9.75 | 10.25 | 10.75 | 11.25 | 11.75 | 12.25 | 12.75 | 13.25 | 13.75 | 14.25 |\n",
       "| 14 |  6.75 |  6.25 |  5.75 |  5.25 |  4.75 |  4.25 |  3.75 |  3.25 |  2.75 |  2.25 | ... |  9.25 |  9.75 | 10.25 | 10.75 | 11.25 | 11.75 | 12.25 | 12.75 | 13.25 | 13.75 |\n",
       "| 15 |  7.25 |  6.75 |  6.25 |  5.75 |  5.25 |  4.75 |  4.25 |  3.75 |  3.25 |  2.75 | ... |  8.75 |  9.25 |  9.75 | 10.25 | 10.75 | 11.25 | 11.75 | 12.25 | 12.75 | 13.25 |\n",
       "| 16 |  7.75 |  7.25 |  6.75 |  6.25 |  5.75 |  5.25 |  4.75 |  4.25 |  3.75 |  3.25 | ... |  8.25 |  8.75 |  9.25 |  9.75 | 10.25 | 10.75 | 11.25 | 11.75 | 12.25 | 12.75 |\n",
       "| 17 |  8.25 |  7.75 |  7.25 |  6.75 |  6.25 |  5.75 |  5.25 |  4.75 |  4.25 |  3.75 | ... |  7.75 |  8.25 |  8.75 |  9.25 |  9.75 | 10.25 | 10.75 | 11.25 | 11.75 | 12.25 |\n",
       "| 18 |  8.75 |  8.25 |  7.75 |  7.25 |  6.75 |  6.25 |  5.75 |  5.25 |  4.75 |  4.25 | ... |  7.25 |  7.75 |  8.25 |  8.75 |  9.25 |  9.75 | 10.25 | 10.75 | 11.25 | 11.75 |\n",
       "| 19 |  9.25 |  8.75 |  8.25 |  7.75 |  7.25 |  6.75 |  6.25 |  5.75 |  5.25 |  4.75 | ... |  6.75 |  7.25 |  7.75 |  8.25 |  8.75 |  9.25 |  9.75 | 10.25 | 10.75 | 11.25 |\n",
       "| 20 |  9.75 |  9.25 |  8.75 |  8.25 |  7.75 |  7.25 |  6.75 |  6.25 |  5.75 |  5.25 | ... |  6.25 |  6.75 |  7.25 |  7.75 |  8.25 |  8.75 |  9.25 |  9.75 | 10.25 | 10.75 |\n",
       "| 21 | 10.25 |  9.75 |  9.25 |  8.75 |  8.25 |  7.75 |  7.25 |  6.75 |  6.25 |  5.75 | ... |  5.75 |  6.25 |  6.75 |  7.25 |  7.75 |  8.25 |  8.75 |  9.25 |  9.75 | 10.25 |\n",
       "| 22 | 10.75 | 10.25 |  9.75 |  9.25 |  8.75 |  8.25 |  7.75 |  7.25 |  6.75 |  6.25 | ... |  5.25 |  5.75 |  6.25 |  6.75 |  7.25 |  7.75 |  8.25 |  8.75 |  9.25 |  9.75 |\n",
       "| 23 | 11.25 | 10.75 | 10.25 |  9.75 |  9.25 |  8.75 |  8.25 |  7.75 |  7.25 |  6.75 | ... |  4.75 |  5.25 |  5.75 |  6.25 |  6.75 |  7.25 |  7.75 |  8.25 |  8.75 |  9.25 |\n",
       "| 24 | 11.75 | 11.25 | 10.75 | 10.25 |  9.75 |  9.25 |  8.75 |  8.25 |  7.75 |  7.25 | ... |  4.25 |  4.75 |  5.25 |  5.75 |  6.25 |  6.75 |  7.25 |  7.75 |  8.25 |  8.75 |\n",
       "| 25 | 12.25 | 11.75 | 11.25 | 10.75 | 10.25 |  9.75 |  9.25 |  8.75 |  8.25 |  7.75 | ... |  3.75 |  4.25 |  4.75 |  5.25 |  5.75 |  6.25 |  6.75 |  7.25 |  7.75 |  8.25 |\n",
       "| 26 | 12.75 | 12.25 | 11.75 | 11.25 | 10.75 | 10.25 |  9.75 |  9.25 |  8.75 |  8.25 | ... |  3.25 |  3.75 |  4.25 |  4.75 |  5.25 |  5.75 |  6.25 |  6.75 |  7.25 |  7.75 |\n",
       "| 27 | 13.25 | 12.75 | 12.25 | 11.75 | 11.25 | 10.75 | 10.25 |  9.75 |  9.25 |  8.75 | ... |  2.75 |  3.25 |  3.75 |  4.25 |  4.75 |  5.25 |  5.75 |  6.25 |  6.75 |  7.25 |\n",
       "| 28 | 13.75 | 13.25 | 12.75 | 12.25 | 11.75 | 11.25 | 10.75 | 10.25 |  9.75 |  9.25 | ... |  2.25 |  2.75 |  3.25 |  3.75 |  4.25 |  4.75 |  5.25 |  5.75 |  6.25 |  6.75 |\n",
       "| 29 | 14.25 | 13.75 | 13.25 | 12.75 | 12.25 | 11.75 | 11.25 | 10.75 | 10.25 |  9.75 | ... |  1.75 |  2.25 |  2.75 |  3.25 |  3.75 |  4.25 |  4.75 |  5.25 |  5.75 |  6.25 |\n",
       "| 30 | 14.75 | 14.25 | 13.75 | 13.25 | 12.75 | 12.25 | 11.75 | 11.25 | 10.75 | 10.25 | ... |  1.25 |  1.75 |  2.25 |  2.75 |  3.25 |  3.75 |  4.25 |  4.75 |  5.25 |  5.75 |\n",
       "| 31 | 15.25 | 14.75 | 14.25 | 13.75 | 13.25 | 12.75 | 12.25 | 11.75 | 11.25 | 10.75 | ... |  0.75 |  1.25 |  1.75 |  2.25 |  2.75 |  3.25 |  3.75 |  4.25 |  4.75 |  5.25 |\n",
       "| 32 | 15.75 | 15.25 | 14.75 | 14.25 | 13.75 | 13.25 | 12.75 | 12.25 | 11.75 | 11.25 | ... |  0.25 |  0.75 |  1.25 |  1.75 |  2.25 |  2.75 |  3.25 |  3.75 |  4.25 |  4.75 |\n",
       "| 33 | 16.25 | 15.75 | 15.25 | 14.75 | 14.25 | 13.75 | 13.25 | 12.75 | 12.25 | 11.75 | ... |  0.25 |  0.25 |  0.75 |  1.25 |  1.75 |  2.25 |  2.75 |  3.25 |  3.75 |  4.25 |\n",
       "| 34 | 16.75 | 16.25 | 15.75 | 15.25 | 14.75 | 14.25 | 13.75 | 13.25 | 12.75 | 12.25 | ... |  0.75 |  0.25 |  0.25 |  0.75 |  1.25 |  1.75 |  2.25 |  2.75 |  3.25 |  3.75 |\n",
       "| 35 | 17.25 | 16.75 | 16.25 | 15.75 | 15.25 | 14.75 | 14.25 | 13.75 | 13.25 | 12.75 | ... |  1.25 |  0.75 |  0.25 |  0.25 |  0.75 |  1.25 |  1.75 |  2.25 |  2.75 |  3.25 |\n",
       "| 36 | 17.75 | 17.25 | 16.75 | 16.25 | 15.75 | 15.25 | 14.75 | 14.25 | 13.75 | 13.25 | ... |  1.75 |  1.25 |  0.75 |  0.25 |  0.25 |  0.75 |  1.25 |  1.75 |  2.25 |  2.75 |\n",
       "| 37 | 18.25 | 17.75 | 17.25 | 16.75 | 16.25 | 15.75 | 15.25 | 14.75 | 14.25 | 13.75 | ... |  2.25 |  1.75 |  1.25 |  0.75 |  0.25 |  0.25 |  0.75 |  1.25 |  1.75 |  2.25 |\n",
       "| 38 | 18.75 | 18.25 | 17.75 | 17.25 | 16.75 | 16.25 | 15.75 | 15.25 | 14.75 | 14.25 | ... |  2.75 |  2.25 |  1.75 |  1.25 |  0.75 |  0.25 |  0.25 |  0.75 |  1.25 |  1.75 |\n",
       "| 39 | 19.25 | 18.75 | 18.25 | 17.75 | 17.25 | 16.75 | 16.25 | 15.75 | 15.25 | 14.75 | ... |  3.25 |  2.75 |  2.25 |  1.75 |  1.25 |  0.75 |  0.25 |  0.25 |  0.75 |  1.25 |\n",
       "| 40 | 19.75 | 19.25 | 18.75 | 18.25 | 17.75 | 17.25 | 16.75 | 16.25 | 15.75 | 15.25 | ... |  3.75 |  3.25 |  2.75 |  2.25 |  1.75 |  1.25 |  0.75 |  0.25 |  0.25 |  0.75 |\n",
       "| 41 | 20.25 | 19.75 | 19.25 | 18.75 | 18.25 | 17.75 | 17.25 | 16.75 | 16.25 | 15.75 | ... |  4.25 |  3.75 |  3.25 |  2.75 |  2.25 |  1.75 |  1.25 |  0.75 |  0.25 |  0.25 |\n",
       "| 42 | 20.75 | 20.25 | 19.75 | 19.25 | 18.75 | 18.25 | 17.75 | 17.25 | 16.75 | 16.25 | ... |  4.75 |  4.25 |  3.75 |  3.25 |  2.75 |  2.25 |  1.75 |  1.25 |  0.75 |  0.25 |\n",
       "\n"
      ],
      "text/plain": [
       "   43    44    45    46    47    48    49    50    51    52    ... 75    76   \n",
       "1   0.25  0.25  0.75  1.25  1.75  2.25  2.75  3.25  3.75  4.25 ... 15.75 16.25\n",
       "2   0.75  0.25  0.25  0.75  1.25  1.75  2.25  2.75  3.25  3.75 ... 15.25 15.75\n",
       "3   1.25  0.75  0.25  0.25  0.75  1.25  1.75  2.25  2.75  3.25 ... 14.75 15.25\n",
       "4   1.75  1.25  0.75  0.25  0.25  0.75  1.25  1.75  2.25  2.75 ... 14.25 14.75\n",
       "5   2.25  1.75  1.25  0.75  0.25  0.25  0.75  1.25  1.75  2.25 ... 13.75 14.25\n",
       "6   2.75  2.25  1.75  1.25  0.75  0.25  0.25  0.75  1.25  1.75 ... 13.25 13.75\n",
       "7   3.25  2.75  2.25  1.75  1.25  0.75  0.25  0.25  0.75  1.25 ... 12.75 13.25\n",
       "8   3.75  3.25  2.75  2.25  1.75  1.25  0.75  0.25  0.25  0.75 ... 12.25 12.75\n",
       "9   4.25  3.75  3.25  2.75  2.25  1.75  1.25  0.75  0.25  0.25 ... 11.75 12.25\n",
       "10  4.75  4.25  3.75  3.25  2.75  2.25  1.75  1.25  0.75  0.25 ... 11.25 11.75\n",
       "11  5.25  4.75  4.25  3.75  3.25  2.75  2.25  1.75  1.25  0.75 ... 10.75 11.25\n",
       "12  5.75  5.25  4.75  4.25  3.75  3.25  2.75  2.25  1.75  1.25 ... 10.25 10.75\n",
       "13  6.25  5.75  5.25  4.75  4.25  3.75  3.25  2.75  2.25  1.75 ...  9.75 10.25\n",
       "14  6.75  6.25  5.75  5.25  4.75  4.25  3.75  3.25  2.75  2.25 ...  9.25  9.75\n",
       "15  7.25  6.75  6.25  5.75  5.25  4.75  4.25  3.75  3.25  2.75 ...  8.75  9.25\n",
       "16  7.75  7.25  6.75  6.25  5.75  5.25  4.75  4.25  3.75  3.25 ...  8.25  8.75\n",
       "17  8.25  7.75  7.25  6.75  6.25  5.75  5.25  4.75  4.25  3.75 ...  7.75  8.25\n",
       "18  8.75  8.25  7.75  7.25  6.75  6.25  5.75  5.25  4.75  4.25 ...  7.25  7.75\n",
       "19  9.25  8.75  8.25  7.75  7.25  6.75  6.25  5.75  5.25  4.75 ...  6.75  7.25\n",
       "20  9.75  9.25  8.75  8.25  7.75  7.25  6.75  6.25  5.75  5.25 ...  6.25  6.75\n",
       "21 10.25  9.75  9.25  8.75  8.25  7.75  7.25  6.75  6.25  5.75 ...  5.75  6.25\n",
       "22 10.75 10.25  9.75  9.25  8.75  8.25  7.75  7.25  6.75  6.25 ...  5.25  5.75\n",
       "23 11.25 10.75 10.25  9.75  9.25  8.75  8.25  7.75  7.25  6.75 ...  4.75  5.25\n",
       "24 11.75 11.25 10.75 10.25  9.75  9.25  8.75  8.25  7.75  7.25 ...  4.25  4.75\n",
       "25 12.25 11.75 11.25 10.75 10.25  9.75  9.25  8.75  8.25  7.75 ...  3.75  4.25\n",
       "26 12.75 12.25 11.75 11.25 10.75 10.25  9.75  9.25  8.75  8.25 ...  3.25  3.75\n",
       "27 13.25 12.75 12.25 11.75 11.25 10.75 10.25  9.75  9.25  8.75 ...  2.75  3.25\n",
       "28 13.75 13.25 12.75 12.25 11.75 11.25 10.75 10.25  9.75  9.25 ...  2.25  2.75\n",
       "29 14.25 13.75 13.25 12.75 12.25 11.75 11.25 10.75 10.25  9.75 ...  1.75  2.25\n",
       "30 14.75 14.25 13.75 13.25 12.75 12.25 11.75 11.25 10.75 10.25 ...  1.25  1.75\n",
       "31 15.25 14.75 14.25 13.75 13.25 12.75 12.25 11.75 11.25 10.75 ...  0.75  1.25\n",
       "32 15.75 15.25 14.75 14.25 13.75 13.25 12.75 12.25 11.75 11.25 ...  0.25  0.75\n",
       "33 16.25 15.75 15.25 14.75 14.25 13.75 13.25 12.75 12.25 11.75 ...  0.25  0.25\n",
       "34 16.75 16.25 15.75 15.25 14.75 14.25 13.75 13.25 12.75 12.25 ...  0.75  0.25\n",
       "35 17.25 16.75 16.25 15.75 15.25 14.75 14.25 13.75 13.25 12.75 ...  1.25  0.75\n",
       "36 17.75 17.25 16.75 16.25 15.75 15.25 14.75 14.25 13.75 13.25 ...  1.75  1.25\n",
       "37 18.25 17.75 17.25 16.75 16.25 15.75 15.25 14.75 14.25 13.75 ...  2.25  1.75\n",
       "38 18.75 18.25 17.75 17.25 16.75 16.25 15.75 15.25 14.75 14.25 ...  2.75  2.25\n",
       "39 19.25 18.75 18.25 17.75 17.25 16.75 16.25 15.75 15.25 14.75 ...  3.25  2.75\n",
       "40 19.75 19.25 18.75 18.25 17.75 17.25 16.75 16.25 15.75 15.25 ...  3.75  3.25\n",
       "41 20.25 19.75 19.25 18.75 18.25 17.75 17.25 16.75 16.25 15.75 ...  4.25  3.75\n",
       "42 20.75 20.25 19.75 19.25 18.75 18.25 17.75 17.25 16.75 16.25 ...  4.75  4.25\n",
       "   77    78    79    80    81    82    83    84   \n",
       "1  16.75 17.25 17.75 18.25 18.75 19.25 19.75 20.25\n",
       "2  16.25 16.75 17.25 17.75 18.25 18.75 19.25 19.75\n",
       "3  15.75 16.25 16.75 17.25 17.75 18.25 18.75 19.25\n",
       "4  15.25 15.75 16.25 16.75 17.25 17.75 18.25 18.75\n",
       "5  14.75 15.25 15.75 16.25 16.75 17.25 17.75 18.25\n",
       "6  14.25 14.75 15.25 15.75 16.25 16.75 17.25 17.75\n",
       "7  13.75 14.25 14.75 15.25 15.75 16.25 16.75 17.25\n",
       "8  13.25 13.75 14.25 14.75 15.25 15.75 16.25 16.75\n",
       "9  12.75 13.25 13.75 14.25 14.75 15.25 15.75 16.25\n",
       "10 12.25 12.75 13.25 13.75 14.25 14.75 15.25 15.75\n",
       "11 11.75 12.25 12.75 13.25 13.75 14.25 14.75 15.25\n",
       "12 11.25 11.75 12.25 12.75 13.25 13.75 14.25 14.75\n",
       "13 10.75 11.25 11.75 12.25 12.75 13.25 13.75 14.25\n",
       "14 10.25 10.75 11.25 11.75 12.25 12.75 13.25 13.75\n",
       "15  9.75 10.25 10.75 11.25 11.75 12.25 12.75 13.25\n",
       "16  9.25  9.75 10.25 10.75 11.25 11.75 12.25 12.75\n",
       "17  8.75  9.25  9.75 10.25 10.75 11.25 11.75 12.25\n",
       "18  8.25  8.75  9.25  9.75 10.25 10.75 11.25 11.75\n",
       "19  7.75  8.25  8.75  9.25  9.75 10.25 10.75 11.25\n",
       "20  7.25  7.75  8.25  8.75  9.25  9.75 10.25 10.75\n",
       "21  6.75  7.25  7.75  8.25  8.75  9.25  9.75 10.25\n",
       "22  6.25  6.75  7.25  7.75  8.25  8.75  9.25  9.75\n",
       "23  5.75  6.25  6.75  7.25  7.75  8.25  8.75  9.25\n",
       "24  5.25  5.75  6.25  6.75  7.25  7.75  8.25  8.75\n",
       "25  4.75  5.25  5.75  6.25  6.75  7.25  7.75  8.25\n",
       "26  4.25  4.75  5.25  5.75  6.25  6.75  7.25  7.75\n",
       "27  3.75  4.25  4.75  5.25  5.75  6.25  6.75  7.25\n",
       "28  3.25  3.75  4.25  4.75  5.25  5.75  6.25  6.75\n",
       "29  2.75  3.25  3.75  4.25  4.75  5.25  5.75  6.25\n",
       "30  2.25  2.75  3.25  3.75  4.25  4.75  5.25  5.75\n",
       "31  1.75  2.25  2.75  3.25  3.75  4.25  4.75  5.25\n",
       "32  1.25  1.75  2.25  2.75  3.25  3.75  4.25  4.75\n",
       "33  0.75  1.25  1.75  2.25  2.75  3.25  3.75  4.25\n",
       "34  0.25  0.75  1.25  1.75  2.25  2.75  3.25  3.75\n",
       "35  0.25  0.25  0.75  1.25  1.75  2.25  2.75  3.25\n",
       "36  0.75  0.25  0.25  0.75  1.25  1.75  2.25  2.75\n",
       "37  1.25  0.75  0.25  0.25  0.75  1.25  1.75  2.25\n",
       "38  1.75  1.25  0.75  0.25  0.25  0.75  1.25  1.75\n",
       "39  2.25  1.75  1.25  0.75  0.25  0.25  0.75  1.25\n",
       "40  2.75  2.25  1.75  1.25  0.75  0.25  0.25  0.75\n",
       "41  3.25  2.75  2.25  1.75  1.25  0.75  0.25  0.25\n",
       "42  3.75  3.25  2.75  2.25  1.75  1.25  0.75  0.25"
      ]
     },
     "metadata": {},
     "output_type": "display_data"
    }
   ],
   "source": [
    "dist <- as.matrix(dist(rbind(test.data, train.data), method= 'manhattan'))[1:test.len, (test.len+1):(test.len+train.len)]\n",
    "dist"
   ]
  },
  {
   "cell_type": "code",
   "execution_count": 10,
   "metadata": {
    "scrolled": true
   },
   "outputs": [
    {
     "name": "stdout",
     "output_type": "stream",
     "text": [
      "[1] 1 2 3\n",
      "[1] 2 3 1\n",
      "[1] 3 4 2\n",
      "[1] 4 5 3\n",
      "[1] 5 6 4\n",
      "[1] 6 7 5\n",
      "[1] 7 8 6\n",
      "[1] 8 9 7\n",
      "[1]  9 10  8\n",
      "[1] 10 11  9\n",
      "[1] 11 12 10\n",
      "[1] 12 13 11\n",
      "[1] 13 14 12\n",
      "[1] 14 15 13\n",
      "[1] 15 16 14\n",
      "[1] 16 17 15\n",
      "[1] 17 18 16\n",
      "[1] 18 19 17\n",
      "[1] 19 20 18\n",
      "[1] 20 21 19\n",
      "[1] 21 22 20\n",
      "[1] 22 23 21\n",
      "[1] 23 24 22\n",
      "[1] 24 25 23\n",
      "[1] 25 26 24\n",
      "[1] 26 27 25\n",
      "[1] 27 28 26\n",
      "[1] 28 29 27\n",
      "[1] 29 30 28\n",
      "[1] 30 31 29\n",
      "[1] 31 32 30\n",
      "[1] 32 33 31\n",
      "[1] 33 34 32\n",
      "[1] 34 35 33\n",
      "[1] 35 36 34\n",
      "[1] 36 37 35\n",
      "[1] 37 38 36\n",
      "[1] 38 39 37\n",
      "[1] 39 40 38\n",
      "[1] 40 41 39\n",
      "[1] 41 42 40\n",
      "[1] 42 41 40\n"
     ]
    }
   ],
   "source": [
    "## Testing for 3-nearest neighbours:\n",
    "\n",
    "for (i in 1:test.len)\n",
    "{\n",
    "    nn <- as.data.frame(sort(dist[i,], index.return = TRUE))[1:3,2]\n",
    "    print(nn)  \n",
    "}"
   ]
  },
  {
   "cell_type": "code",
   "execution_count": 11,
   "metadata": {
    "scrolled": true
   },
   "outputs": [
    {
     "data": {
      "text/html": [
       "<table>\n",
       "<caption>A data.frame: 42 × 1</caption>\n",
       "<thead>\n",
       "\t<tr><th scope=col>y</th></tr>\n",
       "\t<tr><th scope=col>&lt;dbl&gt;</th></tr>\n",
       "</thead>\n",
       "<tbody>\n",
       "\t<tr><td> 0.7233333</td></tr>\n",
       "\t<tr><td> 0.7233333</td></tr>\n",
       "\t<tr><td> 0.7933333</td></tr>\n",
       "\t<tr><td> 0.7500000</td></tr>\n",
       "\t<tr><td> 0.8533333</td></tr>\n",
       "\t<tr><td> 0.8233333</td></tr>\n",
       "\t<tr><td> 0.9166667</td></tr>\n",
       "\t<tr><td> 0.9166667</td></tr>\n",
       "\t<tr><td> 1.0533333</td></tr>\n",
       "\t<tr><td> 1.1066667</td></tr>\n",
       "\t<tr><td> 1.2833333</td></tr>\n",
       "\t<tr><td> 1.2900000</td></tr>\n",
       "\t<tr><td> 1.5233333</td></tr>\n",
       "\t<tr><td> 1.5500000</td></tr>\n",
       "\t<tr><td> 1.7400000</td></tr>\n",
       "\t<tr><td> 1.6300000</td></tr>\n",
       "\t<tr><td> 1.9000000</td></tr>\n",
       "\t<tr><td> 2.0100000</td></tr>\n",
       "\t<tr><td> 2.4000000</td></tr>\n",
       "\t<tr><td> 2.5500000</td></tr>\n",
       "\t<tr><td> 3.0600000</td></tr>\n",
       "\t<tr><td> 3.3600000</td></tr>\n",
       "\t<tr><td> 3.8700000</td></tr>\n",
       "\t<tr><td> 4.2600000</td></tr>\n",
       "\t<tr><td> 4.7400000</td></tr>\n",
       "\t<tr><td> 5.1600000</td></tr>\n",
       "\t<tr><td> 5.7300000</td></tr>\n",
       "\t<tr><td> 6.0600000</td></tr>\n",
       "\t<tr><td> 6.5100000</td></tr>\n",
       "\t<tr><td> 6.6300000</td></tr>\n",
       "\t<tr><td> 7.2300000</td></tr>\n",
       "\t<tr><td> 7.5000000</td></tr>\n",
       "\t<tr><td> 7.9500000</td></tr>\n",
       "\t<tr><td> 8.5200000</td></tr>\n",
       "\t<tr><td> 9.1200000</td></tr>\n",
       "\t<tr><td>10.3200000</td></tr>\n",
       "\t<tr><td>11.1900000</td></tr>\n",
       "\t<tr><td>12.6900000</td></tr>\n",
       "\t<tr><td>13.6800000</td></tr>\n",
       "\t<tr><td>15.0300000</td></tr>\n",
       "\t<tr><td>15.6900000</td></tr>\n",
       "\t<tr><td>15.6900000</td></tr>\n",
       "</tbody>\n",
       "</table>\n"
      ],
      "text/latex": [
       "A data.frame: 42 × 1\n",
       "\\begin{tabular}{l}\n",
       " y\\\\\n",
       " <dbl>\\\\\n",
       "\\hline\n",
       "\t  0.7233333\\\\\n",
       "\t  0.7233333\\\\\n",
       "\t  0.7933333\\\\\n",
       "\t  0.7500000\\\\\n",
       "\t  0.8533333\\\\\n",
       "\t  0.8233333\\\\\n",
       "\t  0.9166667\\\\\n",
       "\t  0.9166667\\\\\n",
       "\t  1.0533333\\\\\n",
       "\t  1.1066667\\\\\n",
       "\t  1.2833333\\\\\n",
       "\t  1.2900000\\\\\n",
       "\t  1.5233333\\\\\n",
       "\t  1.5500000\\\\\n",
       "\t  1.7400000\\\\\n",
       "\t  1.6300000\\\\\n",
       "\t  1.9000000\\\\\n",
       "\t  2.0100000\\\\\n",
       "\t  2.4000000\\\\\n",
       "\t  2.5500000\\\\\n",
       "\t  3.0600000\\\\\n",
       "\t  3.3600000\\\\\n",
       "\t  3.8700000\\\\\n",
       "\t  4.2600000\\\\\n",
       "\t  4.7400000\\\\\n",
       "\t  5.1600000\\\\\n",
       "\t  5.7300000\\\\\n",
       "\t  6.0600000\\\\\n",
       "\t  6.5100000\\\\\n",
       "\t  6.6300000\\\\\n",
       "\t  7.2300000\\\\\n",
       "\t  7.5000000\\\\\n",
       "\t  7.9500000\\\\\n",
       "\t  8.5200000\\\\\n",
       "\t  9.1200000\\\\\n",
       "\t 10.3200000\\\\\n",
       "\t 11.1900000\\\\\n",
       "\t 12.6900000\\\\\n",
       "\t 13.6800000\\\\\n",
       "\t 15.0300000\\\\\n",
       "\t 15.6900000\\\\\n",
       "\t 15.6900000\\\\\n",
       "\\end{tabular}\n"
      ],
      "text/markdown": [
       "\n",
       "A data.frame: 42 × 1\n",
       "\n",
       "| y &lt;dbl&gt; |\n",
       "|---|\n",
       "|  0.7233333 |\n",
       "|  0.7233333 |\n",
       "|  0.7933333 |\n",
       "|  0.7500000 |\n",
       "|  0.8533333 |\n",
       "|  0.8233333 |\n",
       "|  0.9166667 |\n",
       "|  0.9166667 |\n",
       "|  1.0533333 |\n",
       "|  1.1066667 |\n",
       "|  1.2833333 |\n",
       "|  1.2900000 |\n",
       "|  1.5233333 |\n",
       "|  1.5500000 |\n",
       "|  1.7400000 |\n",
       "|  1.6300000 |\n",
       "|  1.9000000 |\n",
       "|  2.0100000 |\n",
       "|  2.4000000 |\n",
       "|  2.5500000 |\n",
       "|  3.0600000 |\n",
       "|  3.3600000 |\n",
       "|  3.8700000 |\n",
       "|  4.2600000 |\n",
       "|  4.7400000 |\n",
       "|  5.1600000 |\n",
       "|  5.7300000 |\n",
       "|  6.0600000 |\n",
       "|  6.5100000 |\n",
       "|  6.6300000 |\n",
       "|  7.2300000 |\n",
       "|  7.5000000 |\n",
       "|  7.9500000 |\n",
       "|  8.5200000 |\n",
       "|  9.1200000 |\n",
       "| 10.3200000 |\n",
       "| 11.1900000 |\n",
       "| 12.6900000 |\n",
       "| 13.6800000 |\n",
       "| 15.0300000 |\n",
       "| 15.6900000 |\n",
       "| 15.6900000 |\n",
       "\n"
      ],
      "text/plain": [
       "   y         \n",
       "1   0.7233333\n",
       "2   0.7233333\n",
       "3   0.7933333\n",
       "4   0.7500000\n",
       "5   0.8533333\n",
       "6   0.8233333\n",
       "7   0.9166667\n",
       "8   0.9166667\n",
       "9   1.0533333\n",
       "10  1.1066667\n",
       "11  1.2833333\n",
       "12  1.2900000\n",
       "13  1.5233333\n",
       "14  1.5500000\n",
       "15  1.7400000\n",
       "16  1.6300000\n",
       "17  1.9000000\n",
       "18  2.0100000\n",
       "19  2.4000000\n",
       "20  2.5500000\n",
       "21  3.0600000\n",
       "22  3.3600000\n",
       "23  3.8700000\n",
       "24  4.2600000\n",
       "25  4.7400000\n",
       "26  5.1600000\n",
       "27  5.7300000\n",
       "28  6.0600000\n",
       "29  6.5100000\n",
       "30  6.6300000\n",
       "31  7.2300000\n",
       "32  7.5000000\n",
       "33  7.9500000\n",
       "34  8.5200000\n",
       "35  9.1200000\n",
       "36 10.3200000\n",
       "37 11.1900000\n",
       "38 12.6900000\n",
       "39 13.6800000\n",
       "40 15.0300000\n",
       "41 15.6900000\n",
       "42 15.6900000"
      ]
     },
     "metadata": {},
     "output_type": "display_data"
    }
   ],
   "source": [
    "knn(train.data, train.label, test.data, K=3)"
   ]
  },
  {
   "cell_type": "code",
   "execution_count": 12,
   "metadata": {},
   "outputs": [],
   "source": [
    "## Calculate the train and test missclassification rates for K values ranging from 1 to 30 using Root Mean Square Error method:\n",
    "\n",
    "miss <- data.frame('K'=1:30, 'train'=rep(0,30), 'test'=rep(0,30))\n",
    "for (k in 1:30){\n",
    "    \n",
    "    ## Storing the predictions for the training and testing data:\n",
    "    \n",
    "    train_y_pred <- knn(train.data, train.label, train.data, K=k)\n",
    "    \n",
    "    test_y_pred <- knn(train.data, train.label, test.data, K=k)\n",
    "    \n",
    "    ## Calculating residuals i.e, difference between the predicted and true values:\n",
    "    \n",
    "    residuals_train <- train_y_pred - train.label\n",
    "    \n",
    "    residuals_test <- test_y_pred - test.label\n",
    "    \n",
    "    ## Calculating the square of residuals:\n",
    "    \n",
    "    train_residual <- residuals_train*residuals_train\n",
    "    \n",
    "    test_residual <- residuals_test*residuals_test\n",
    "    \n",
    "    ## Calculating the mean of the residuals:\n",
    "    \n",
    "    mean_train <- mean(train_residual$y, na.rm=TRUE)\n",
    "    \n",
    "    mean_test <- mean(test_residual$y, na.rm=TRUE)\n",
    "    \n",
    "    ## Calculating the square root of the calculated mean and storing it in the dataframe corresponding to the K-value\n",
    "    ## which will be used for visualization:\n",
    "    \n",
    "    miss[k,'train'] <- sqrt(mean_train)\n",
    "    miss[k,'test'] <-  sqrt(mean_test)\n",
    "}\n"
   ]
  },
  {
   "cell_type": "markdown",
   "metadata": {},
   "source": [
    "# II: Plot the training and the testing errors versus 1/K for K=1,.., 30 in one plot:"
   ]
  },
  {
   "cell_type": "code",
   "execution_count": 13,
   "metadata": {},
   "outputs": [
    {
     "data": {
      "image/png": "[encoded data removed]",
      "text/plain": [
       "plot without title"
      ]
     },
     "metadata": {
      "image/png": {
       "height": 360,
       "width": 600
      },
      "text/plain": {
       "height": 360,
       "width": 600
      }
     },
     "output_type": "display_data"
    }
   ],
   "source": [
    "## Plot misclassification percentage for train and test data sets:\n",
    "\n",
    "options(repr.plot.width=10, repr.plot.height=6)\n",
    "\n",
    "miss.m <- melt(miss, id='K')                                                         ## Reshape for visualization\n",
    "names(miss.m) <- c('K', 'type', 'error')\n",
    "ggplot(data=miss.m, aes(x=(1/K), y=error, color=type)) + geom_line(size=0.8) +\n",
    "       scale_color_discrete(guide = guide_legend(title = NULL)) + theme_minimal() +\n",
    "       ggtitle(\"Missclassification Error\")"
   ]
  },
  {
   "cell_type": "markdown",
   "metadata": {},
   "source": [
    "### Observation:\n",
    "\n",
    "It is evident from the above graph that the **training error** keeps on **reducing** as **1/K** increases while the **testing error reduces** upto the **convergence point** and then **increases** after that point it increases."
   ]
  },
  {
   "cell_type": "markdown",
   "metadata": {},
   "source": [
    "# III:"
   ]
  },
  {
   "cell_type": "markdown",
   "metadata": {},
   "source": [
    "- The optimum value of <b>K</b> is at the **convergence point** when (1/K) is around 0.120 which approximates the value of K at 8.3333 and hence the range of <b>K</b> can be from <b>8</b> to <b>10</b> as optimum values.\n",
    "- Model complexity **increases** as **training error decreases** and **testing error increases** as it overfits on the unseen data as it has learned the training set all too well.\n",
    "- The area before the convergence point indicates **underfitting** while the area after that the model is **overfitting**."
   ]
  },
  {
   "cell_type": "code",
   "execution_count": null,
   "metadata": {},
   "outputs": [],
   "source": []
  }
 ],
 "metadata": {
  "kernelspec": {
   "display_name": "R",
   "language": "R",
   "name": "ir"
  },
  "language_info": {
   "codemirror_mode": "r",
   "file_extension": ".r",
   "mimetype": "text/x-r-source",
   "name": "R",
   "pygments_lexer": "r",
   "version": "4.0.0"
  }
 },
 "nbformat": 4,
 "nbformat_minor": 2
}
